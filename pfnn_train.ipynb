{
 "cells": [
  {
   "cell_type": "code",
   "execution_count": 46,
   "metadata": {},
   "outputs": [
    {
     "name": "stdout",
     "output_type": "stream",
     "text": [
      "The autoreload extension is already loaded. To reload it, use:\n",
      "  %reload_ext autoreload\n"
     ]
    }
   ],
   "source": [
    "%load_ext autoreload\n",
    "%autoreload 2\n",
    "\n",
    "import torch\n",
    "import torch.nn as nn\n",
    "import torch.nn.functional as F\n",
    "import numpy as np\n",
    "import skeletondef as skd\n",
    "from torch.utils.data import TensorDataset, DataLoader, random_split\n",
    "from tqdm import tqdm\n",
    "\n",
    "from PFNNHiddenLayer import PFNNHiddenLayer\n",
    "from PFNNBiasLayer import PFNNBiasLayer\n",
    "\n",
    "torch.manual_seed(42)\n",
    "np.random.seed(42)\n",
    "rng = np.random.RandomState(42)"
   ]
  },
  {
   "cell_type": "code",
   "execution_count": 2,
   "metadata": {},
   "outputs": [
    {
     "name": "stdout",
     "output_type": "stream",
     "text": [
      "(124610, 342) (124610, 311) (124610,)\n"
     ]
    }
   ],
   "source": [
    "# load data\n",
    "X = np.float32(np.loadtxt('./data/Input.txt'))\n",
    "Y = np.float32(np.loadtxt('./data/Output.txt'))\n",
    "P = np.float32(np.loadtxt('./data/Phases.txt'))\n",
    "print(X.shape, Y.shape, P.shape)"
   ]
  },
  {
   "cell_type": "code",
   "execution_count": 3,
   "metadata": {},
   "outputs": [],
   "source": [
    "# calculate mean and std\n",
    "Xmean, Xstd = X.mean(axis=0), X.std(axis=0)\n",
    "Ymean, Ystd = Y.mean(axis=0), Y.std(axis=0)\n",
    "\n",
    "j = skd.JOINT_NUM\n",
    "w = ((60*2)//10)\n",
    "\n",
    "Xstd[w*0:w* 1] = Xstd[w*0:w* 1].mean() # Trajectory Past Positions\n",
    "Xstd[w*1:w* 2] = Xstd[w*1:w* 2].mean() # Trajectory Future Positions\n",
    "Xstd[w*2:w* 3] = Xstd[w*2:w* 3].mean() # Trajectory Past Directions\n",
    "Xstd[w*3:w* 4] = Xstd[w*3:w* 4].mean() # Trajectory Future Directions\n",
    "Xstd[w*4:w*10] = Xstd[w*4:w*10].mean() # Trajectory Gait\n",
    "\n",
    "# mask out unused joints in input\n",
    "joint_weights = np.array(skd.JOINT_WEIGHTS).repeat(3)\n",
    "\n",
    "Xstd[w*10+j*3*0:w*10+j*3*1] = Xstd[w*10+j*3*0:w*10+j*3*1].mean() / (joint_weights * 0.1) # Pos\n",
    "Xstd[w*10+j*3*1:w*10+j*3*2] = Xstd[w*10+j*3*1:w*10+j*3*2].mean() / (joint_weights * 0.1) # Vel\n",
    "Xstd[w*10+j*3*2:          ] = Xstd[w*10+j*3*2:          ].mean() # Terrain\n",
    "\n",
    "Ystd[0:2] = Ystd[0:2].mean() # Translational Velocity\n",
    "Ystd[2:3] = Ystd[2:3].mean() # Rotational Velocity\n",
    "Ystd[3:4] = Ystd[3:4].mean() # Change in Phase\n",
    "Ystd[4:8] = Ystd[4:8].mean() # Contacts\n",
    "\n",
    "Ystd[8+w*0:8+w*1] = Ystd[8+w*0:8+w*1].mean() # Trajectory Future Positions\n",
    "Ystd[8+w*1:8+w*2] = Ystd[8+w*1:8+w*2].mean() # Trajectory Future Directions\n",
    "\n",
    "Ystd[8+w*2+j*3*0:8+w*2+j*3*1] = Ystd[8+w*2+j*3*0:8+w*2+j*3*1].mean() # Pos\n",
    "Ystd[8+w*2+j*3*1:8+w*2+j*3*2] = Ystd[8+w*2+j*3*1:8+w*2+j*3*2].mean() # Vel\n",
    "Ystd[8+w*2+j*3*2:8+w*2+j*3*3] = Ystd[8+w*2+j*3*2:8+w*2+j*3*3].mean() # Rot\n",
    "\n",
    "# save mean / std / min / max\n",
    "\n",
    "Xmean.astype(np.float32).tofile('./weights/Xmean.bin')\n",
    "Ymean.astype(np.float32).tofile('./weights/Ymean.bin')\n",
    "Xstd.astype(np.float32).tofile('./weights/Xstd.bin')\n",
    "Ystd.astype(np.float32).tofile('./weights/Ystd.bin')\n",
    "\n",
    "# normalize data\n",
    "X = (X - Xmean) / Xstd\n",
    "Y = (Y - Ymean) / Ystd"
   ]
  },
  {
   "cell_type": "code",
   "execution_count": 84,
   "metadata": {},
   "outputs": [],
   "source": [
    "class PhaseFunctionedNetwork(nn.Module):\n",
    "    def __init__(self, input_shape=1, output_shape=1, dropout=0.7):\n",
    "        super(PhaseFunctionedNetwork, self).__init__()\n",
    "\n",
    "        self.nslices = 4\n",
    "        self.dropout0 = nn.Dropout(p=dropout)\n",
    "        self.W0 = PFNNHiddenLayer((self.nslices, 512, input_shape-1))\n",
    "        self.activation0 = nn.ELU()\n",
    "        \n",
    "        self.dropout1 = nn.Dropout(p=dropout)\n",
    "        self.W1 = PFNNHiddenLayer((self.nslices, 512, 512))\n",
    "        self.activation1 = nn.ELU()\n",
    "        \n",
    "        self.dropout2 = nn.Dropout(p=dropout)\n",
    "        self.W2 = PFNNHiddenLayer((self.nslices, output_shape, 512))\n",
    "\n",
    "        self.layers = nn.ModuleList([self.W0, self.W1, self.W2])\n",
    "\n",
    "    def forward(self, input):\n",
    "        pscale = self.nslices * input[:, -1]\n",
    "        pamount = pscale % 1.0\n",
    "\n",
    "        pindex_1 = torch.floor(pscale).long() % self.nslices\n",
    "        pindex_0 = (pindex_1 - 1) % self.nslices\n",
    "        pindex_2 = (pindex_1 + 1) % self.nslices\n",
    "        pindex_3 = (pindex_1 + 2) % self.nslices\n",
    "\n",
    "        Wamount = pamount.unsqueeze(1).unsqueeze(1)\n",
    "        bamount = pamount.unsqueeze(1)\n",
    "\n",
    "        def cubic(y0, y1, y2, y3, mu):\n",
    "            return (\n",
    "                (-0.5*y0+1.5*y1-1.5*y2+0.5*y3)*mu*mu*mu + \n",
    "                (y0-2.5*y1+2.0*y2-0.5*y3)*mu*mu + \n",
    "                (-0.5*y0+0.5*y2)*mu +\n",
    "                (y1))\n",
    "        \n",
    "        # self.W0.W.data = cubic(self.W0.W[pindex_0], self.W0.W[pindex_1], self.W0.W[pindex_2], self.W0.W[pindex_3], Wamount)\n",
    "        # self.W0.b.data = cubic(self.W0.b[pindex_0], self.W0.b[pindex_1], self.W0.b[pindex_2], self.W0.b[pindex_3], bamount)\n",
    "\n",
    "        # self.W1.W.data = cubic(self.W1.W[pindex_0], self.W1.W[pindex_1], self.W1.W[pindex_2], self.W1.W[pindex_3], Wamount)\n",
    "        # self.W1.b.data = cubic(self.W1.b[pindex_0], self.W1.b[pindex_1], self.W1.b[pindex_2], self.W1.b[pindex_3], bamount)\n",
    "        \n",
    "        # self.W2.W.data = cubic(self.W2.W[pindex_0], self.W2.W[pindex_1], self.W2.W[pindex_2], self.W2.W[pindex_3], Wamount)\n",
    "        # self.W2.b.data = cubic(self.W2.b[pindex_0], self.W2.b[pindex_1], self.W2.b[pindex_2], self.W2.b[pindex_3], bamount)\n",
    "\n",
    "        W0 = cubic(self.W0.W[pindex_0], self.W0.W[pindex_1], self.W0.W[pindex_2], self.W0.W[pindex_3], Wamount)\n",
    "        b0 = cubic(self.W0.b[pindex_0], self.W0.b[pindex_1], self.W0.b[pindex_2], self.W0.b[pindex_3], bamount)\n",
    "\n",
    "        W1 = cubic(self.W1.W[pindex_0], self.W1.W[pindex_1], self.W1.W[pindex_2], self.W1.W[pindex_3], Wamount)\n",
    "        b1 = cubic(self.W1.b[pindex_0], self.W1.b[pindex_1], self.W1.b[pindex_2], self.W1.b[pindex_3], bamount)\n",
    "        \n",
    "        W2 = cubic(self.W2.W[pindex_0], self.W2.W[pindex_1], self.W2.W[pindex_2], self.W2.W[pindex_3], Wamount)\n",
    "        b2 = cubic(self.W2.b[pindex_0], self.W2.b[pindex_1], self.W2.b[pindex_2], self.W2.b[pindex_3], bamount)\n",
    "\n",
    "\n",
    "        # # input layer\n",
    "        # x = input[:, :-1]\n",
    "        # x = self.dropout0(x)\n",
    "        # # first hidden layer\n",
    "        # x = self.W0(x.unsqueeze(1)).squeeze(1)\n",
    "        # x = self.activation0(x)\n",
    "        # x = self.dropout1(x)\n",
    "        # # second hidden layer\n",
    "        # x = self.W1(x.unsqueeze(1)).squeeze(1)\n",
    "        # x = self.activation1(x)\n",
    "        # x = self.dropout2(x)\n",
    "        # # output layer\n",
    "        # x = self.W2(x.unsqueeze(1)).squeeze(1)\n",
    "\n",
    "        H0 = input[:,:-1]\n",
    "        # print(f\"\")\n",
    "        H1 = self.activation0(torch.bmm(W0, self.dropout0(H0.unsqueeze(-1))).squeeze(-1) + b0)\n",
    "        H2 = self.activation1(torch.bmm(W1, self.dropout1(H1.unsqueeze(-1))).squeeze(-1) + b1)\n",
    "        H3 = torch.bmm(W2, self.dropout2(H2.unsqueeze(-1))).squeeze(-1) + b2\n",
    "        return H3\n",
    "    \n",
    "    def cost(self):\n",
    "        costs = 0\n",
    "        for layer in self.layers:\n",
    "            if hasattr(layer, 'cost'):\n",
    "                costs += layer.cost()\n",
    "        return costs / len(self.layers)"
   ]
  },
  {
   "cell_type": "code",
   "execution_count": 91,
   "metadata": {},
   "outputs": [],
   "source": [
    "# append phase as additional feature\n",
    "input = torch.tensor(np.concatenate([X, P [..., np.newaxis]], axis=-1))\n",
    "target = torch.tensor(Y)\n",
    "\n",
    "dataset = TensorDataset(input[:100000], target[:100000])\n",
    "# dataset = TensorDataset(input, target)\n",
    "\n",
    "BATCH_SIZE = 32\n",
    "train_dataloader = DataLoader(dataset, batch_size=BATCH_SIZE, shuffle=True)"
   ]
  },
  {
   "cell_type": "code",
   "execution_count": 92,
   "metadata": {},
   "outputs": [],
   "source": [
    "# ensure GPU is available\n",
    "# device = torch.device(\"cuda\" if torch.cuda.is_available() else \"cpu\")\n",
    "# print(f\"Using device: {device}\")\n",
    "device = \"cuda\"\n",
    "\n",
    "# custom loss function\n",
    "def loss_func(output, target, model):\n",
    "    loss = torch.mean((output - target)**2) + model.cost()\n",
    "    return loss"
   ]
  },
  {
   "cell_type": "code",
   "execution_count": 93,
   "metadata": {},
   "outputs": [
    {
     "name": "stderr",
     "output_type": "stream",
     "text": [
      "100%|██████████| 3125/3125 [01:54<00:00, 27.35it/s]\n"
     ]
    },
    {
     "name": "stdout",
     "output_type": "stream",
     "text": [
      "Epoch [1/20], Loss: 0.8027093435573578\n"
     ]
    },
    {
     "name": "stderr",
     "output_type": "stream",
     "text": [
      "100%|██████████| 3125/3125 [01:54<00:00, 27.40it/s]\n"
     ]
    },
    {
     "name": "stdout",
     "output_type": "stream",
     "text": [
      "Epoch [2/20], Loss: 0.5839953798866272\n"
     ]
    },
    {
     "name": "stderr",
     "output_type": "stream",
     "text": [
      "100%|██████████| 3125/3125 [01:54<00:00, 27.20it/s]\n"
     ]
    },
    {
     "name": "stdout",
     "output_type": "stream",
     "text": [
      "Epoch [3/20], Loss: 0.5418684776306152\n"
     ]
    },
    {
     "name": "stderr",
     "output_type": "stream",
     "text": [
      "100%|██████████| 3125/3125 [01:54<00:00, 27.36it/s]\n"
     ]
    },
    {
     "name": "stdout",
     "output_type": "stream",
     "text": [
      "Epoch [4/20], Loss: 0.5235437817955018\n"
     ]
    },
    {
     "name": "stderr",
     "output_type": "stream",
     "text": [
      "100%|██████████| 3125/3125 [01:53<00:00, 27.43it/s]\n"
     ]
    },
    {
     "name": "stdout",
     "output_type": "stream",
     "text": [
      "Epoch [5/20], Loss: 0.5095128144836426\n"
     ]
    },
    {
     "name": "stderr",
     "output_type": "stream",
     "text": [
      "100%|██████████| 3125/3125 [01:53<00:00, 27.43it/s]\n"
     ]
    },
    {
     "name": "stdout",
     "output_type": "stream",
     "text": [
      "Epoch [6/20], Loss: 0.5019556752681732\n"
     ]
    },
    {
     "name": "stderr",
     "output_type": "stream",
     "text": [
      "100%|██████████| 3125/3125 [01:53<00:00, 27.42it/s]\n"
     ]
    },
    {
     "name": "stdout",
     "output_type": "stream",
     "text": [
      "Epoch [7/20], Loss: 0.4947358155918121\n"
     ]
    },
    {
     "name": "stderr",
     "output_type": "stream",
     "text": [
      "100%|██████████| 3125/3125 [01:54<00:00, 27.32it/s]\n"
     ]
    },
    {
     "name": "stdout",
     "output_type": "stream",
     "text": [
      "Epoch [8/20], Loss: 0.48759369049072265\n"
     ]
    },
    {
     "name": "stderr",
     "output_type": "stream",
     "text": [
      "100%|██████████| 3125/3125 [01:54<00:00, 27.35it/s]\n"
     ]
    },
    {
     "name": "stdout",
     "output_type": "stream",
     "text": [
      "Epoch [9/20], Loss: 0.48217288885116577\n"
     ]
    },
    {
     "name": "stderr",
     "output_type": "stream",
     "text": [
      "100%|██████████| 3125/3125 [01:53<00:00, 27.44it/s]\n"
     ]
    },
    {
     "name": "stdout",
     "output_type": "stream",
     "text": [
      "Epoch [10/20], Loss: 0.47650654042243956\n"
     ]
    },
    {
     "name": "stderr",
     "output_type": "stream",
     "text": [
      "100%|██████████| 3125/3125 [01:53<00:00, 27.43it/s]\n"
     ]
    },
    {
     "name": "stdout",
     "output_type": "stream",
     "text": [
      "Epoch [11/20], Loss: 0.4717615189552307\n"
     ]
    },
    {
     "name": "stderr",
     "output_type": "stream",
     "text": [
      "100%|██████████| 3125/3125 [01:53<00:00, 27.43it/s]\n"
     ]
    },
    {
     "name": "stdout",
     "output_type": "stream",
     "text": [
      "Epoch [12/20], Loss: 0.4664538872623444\n"
     ]
    },
    {
     "name": "stderr",
     "output_type": "stream",
     "text": [
      "100%|██████████| 3125/3125 [01:54<00:00, 27.33it/s]\n"
     ]
    },
    {
     "name": "stdout",
     "output_type": "stream",
     "text": [
      "Epoch [13/20], Loss: 0.46419999822616576\n"
     ]
    },
    {
     "name": "stderr",
     "output_type": "stream",
     "text": [
      "100%|██████████| 3125/3125 [01:54<00:00, 27.31it/s]\n"
     ]
    },
    {
     "name": "stdout",
     "output_type": "stream",
     "text": [
      "Epoch [14/20], Loss: 0.4597446337413788\n"
     ]
    },
    {
     "name": "stderr",
     "output_type": "stream",
     "text": [
      "100%|██████████| 3125/3125 [01:53<00:00, 27.41it/s]\n"
     ]
    },
    {
     "name": "stdout",
     "output_type": "stream",
     "text": [
      "Epoch [15/20], Loss: 0.4558629074192047\n"
     ]
    },
    {
     "name": "stderr",
     "output_type": "stream",
     "text": [
      "100%|██████████| 3125/3125 [01:53<00:00, 27.43it/s]\n"
     ]
    },
    {
     "name": "stdout",
     "output_type": "stream",
     "text": [
      "Epoch [16/20], Loss: 0.45363884554862977\n"
     ]
    },
    {
     "name": "stderr",
     "output_type": "stream",
     "text": [
      "100%|██████████| 3125/3125 [01:53<00:00, 27.43it/s]\n"
     ]
    },
    {
     "name": "stdout",
     "output_type": "stream",
     "text": [
      "Epoch [17/20], Loss: 0.45037930371284485\n"
     ]
    },
    {
     "name": "stderr",
     "output_type": "stream",
     "text": [
      "100%|██████████| 3125/3125 [01:54<00:00, 27.36it/s]\n"
     ]
    },
    {
     "name": "stdout",
     "output_type": "stream",
     "text": [
      "Epoch [18/20], Loss: 0.44769853256225584\n"
     ]
    },
    {
     "name": "stderr",
     "output_type": "stream",
     "text": [
      "100%|██████████| 3125/3125 [01:54<00:00, 27.22it/s]\n"
     ]
    },
    {
     "name": "stdout",
     "output_type": "stream",
     "text": [
      "Epoch [19/20], Loss: 0.4458384989356995\n"
     ]
    },
    {
     "name": "stderr",
     "output_type": "stream",
     "text": [
      "100%|██████████| 3125/3125 [01:53<00:00, 27.43it/s]"
     ]
    },
    {
     "name": "stdout",
     "output_type": "stream",
     "text": [
      "Epoch [20/20], Loss: 0.4432077969074249\n"
     ]
    },
    {
     "name": "stderr",
     "output_type": "stream",
     "text": [
      "\n"
     ]
    }
   ],
   "source": [
    "model = PhaseFunctionedNetwork(input_shape=input.shape[1], output_shape=311)\n",
    "model.to(device)\n",
    "\n",
    "# optimizer = torch.optim.AdamW(model.parameters(), lr=0.0001)\n",
    "optimizer = torch.optim.Adam(model.parameters(), lr=0.0001)\n",
    "\n",
    "epochs=20\n",
    "\n",
    "for epoch in range(epochs):\n",
    "    model.train()\n",
    "    loss_list = []\n",
    "    for i, batch in enumerate(tqdm(train_dataloader)):\n",
    "        input, target = batch\n",
    "        input, target = input.to(device), target.to(device)\n",
    "\n",
    "        # forward pass\n",
    "        output = model(input)\n",
    "        loss = loss_func(output, target, model)\n",
    "        loss_list.append(loss.item())\n",
    "\n",
    "        # backward pass\n",
    "        optimizer.zero_grad()\n",
    "        loss.backward()\n",
    "        optimizer.step()\n",
    "    \n",
    "    print(f'Epoch [{epoch+1}/{epochs}], Loss: {np.average(loss_list)}')\n"
   ]
  },
  {
   "cell_type": "code",
   "execution_count": 94,
   "metadata": {},
   "outputs": [],
   "source": [
    "# precompute weights\n",
    "for i in range(50):\n",
    "    \n",
    "    pscale = model.nslices*(float(i)/50)\n",
    "    pamount = pscale % 1.0\n",
    "    \n",
    "    pindex_1 = int(pscale) % model.nslices\n",
    "    pindex_0 = (pindex_1-1) % model.nslices\n",
    "    pindex_2 = (pindex_1+1) % model.nslices\n",
    "    pindex_3 = (pindex_1+2) % model.nslices\n",
    "    \n",
    "    def cubic(y0, y1, y2, y3, mu):\n",
    "        return (\n",
    "            (-0.5*y0+1.5*y1-1.5*y2+0.5*y3)*mu*mu*mu + \n",
    "            (y0-2.5*y1+2.0*y2-0.5*y3)*mu*mu + \n",
    "            (-0.5*y0+0.5*y2)*mu +\n",
    "            (y1))\n",
    "    \n",
    "    W0 = cubic(model.W0.W[pindex_0], model.W0.W[pindex_1], model.W0.W[pindex_2], model.W0.W[pindex_3], pamount).cpu().detach().numpy()\n",
    "    W1 = cubic(model.W1.W[pindex_0], model.W1.W[pindex_1], model.W1.W[pindex_2], model.W1.W[pindex_3], pamount).cpu().detach().numpy()\n",
    "    W2 = cubic(model.W2.W[pindex_0], model.W2.W[pindex_1], model.W2.W[pindex_2], model.W2.W[pindex_3], pamount).cpu().detach().numpy()\n",
    "\n",
    "    b0 = cubic(model.W0.b[pindex_0], model.W0.b[pindex_1], model.W0.b[pindex_2], model.W0.b[pindex_3], pamount).cpu().detach().numpy()\n",
    "    b1 = cubic(model.W1.b[pindex_0], model.W1.b[pindex_1], model.W1.b[pindex_2], model.W1.b[pindex_3], pamount).cpu().detach().numpy()\n",
    "    b2 = cubic(model.W2.b[pindex_0], model.W2.b[pindex_1], model.W2.b[pindex_2], model.W2.b[pindex_3], pamount).cpu().detach().numpy()\n",
    "    \n",
    "    W0.astype(np.float32).tofile('./weights/W0_%03i.bin' % i)\n",
    "    W1.astype(np.float32).tofile('./weights/W1_%03i.bin' % i)\n",
    "    W2.astype(np.float32).tofile('./weights/W2_%03i.bin' % i)\n",
    "    \n",
    "    b0.astype(np.float32).tofile('./weights/b0_%03i.bin' % i)\n",
    "    b1.astype(np.float32).tofile('./weights/b1_%03i.bin' % i)\n",
    "    b2.astype(np.float32).tofile('./weights/b2_%03i.bin' % i)"
   ]
  }
 ],
 "metadata": {
  "kernelspec": {
   "display_name": "pytorch-env",
   "language": "python",
   "name": "python3"
  },
  "language_info": {
   "codemirror_mode": {
    "name": "ipython",
    "version": 3
   },
   "file_extension": ".py",
   "mimetype": "text/x-python",
   "name": "python",
   "nbconvert_exporter": "python",
   "pygments_lexer": "ipython3",
   "version": "3.8.19"
  }
 },
 "nbformat": 4,
 "nbformat_minor": 2
}
