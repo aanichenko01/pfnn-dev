{
 "cells": [
  {
   "cell_type": "code",
   "execution_count": 1,
   "metadata": {},
   "outputs": [],
   "source": [
    "%load_ext autoreload\n",
    "%autoreload 2\n",
    "\n",
    "import torch\n",
    "import torch.nn as nn\n",
    "import torch.nn.functional as F\n",
    "import numpy as np\n",
    "import skeletondef as skd"
   ]
  },
  {
   "cell_type": "code",
   "execution_count": 2,
   "metadata": {},
   "outputs": [
    {
     "name": "stdout",
     "output_type": "stream",
     "text": [
      "Using device: cuda\n"
     ]
    }
   ],
   "source": [
    "# ensure GPU is available\n",
    "device = torch.device(\"cuda\" if torch.cuda.is_available() else \"cpu\")\n",
    "print(f\"Using device: {device}\")"
   ]
  },
  {
   "cell_type": "code",
   "execution_count": 3,
   "metadata": {},
   "outputs": [
    {
     "name": "stdout",
     "output_type": "stream",
     "text": [
      "(124610, 342) (124610, 311) (124610,)\n"
     ]
    }
   ],
   "source": [
    "# load data\n",
    "X = np.float32(np.loadtxt('./data/Input.txt'))\n",
    "Y = np.float32(np.loadtxt('./data/Output.txt'))\n",
    "P = np.float32(np.loadtxt('./data/Phases.txt'))\n",
    "print(X.shape, Y.shape, P.shape)"
   ]
  },
  {
   "cell_type": "code",
   "execution_count": 4,
   "metadata": {},
   "outputs": [],
   "source": [
    "# calculate mean and std\n",
    "Xmean, Xstd = X.mean(axis=0), X.std(axis=0)\n",
    "Ymean, Ystd = Y.mean(axis=0), Y.std(axis=0)\n",
    "\n",
    "j = skd.JOINT_NUM\n",
    "w = ((60*2)//10)\n",
    "\n",
    "Xstd[w*0:w* 1] = Xstd[w*0:w* 1].mean() # Trajectory Past Positions\n",
    "Xstd[w*1:w* 2] = Xstd[w*1:w* 2].mean() # Trajectory Future Positions\n",
    "Xstd[w*2:w* 3] = Xstd[w*2:w* 3].mean() # Trajectory Past Directions\n",
    "Xstd[w*3:w* 4] = Xstd[w*3:w* 4].mean() # Trajectory Future Directions\n",
    "Xstd[w*4:w*10] = Xstd[w*4:w*10].mean() # Trajectory Gait\n",
    "\n",
    "# mask out unused joints in input\n",
    "joint_weights = np.array(skd.JOINT_WEIGHTS).repeat(3)\n",
    "\n",
    "Xstd[w*10+j*3*0:w*10+j*3*1] = Xstd[w*10+j*3*0:w*10+j*3*1].mean() / (joint_weights * 0.1) # Pos\n",
    "Xstd[w*10+j*3*1:w*10+j*3*2] = Xstd[w*10+j*3*1:w*10+j*3*2].mean() / (joint_weights * 0.1) # Vel\n",
    "Xstd[w*10+j*3*2:          ] = Xstd[w*10+j*3*2:          ].mean() # Terrain\n",
    "\n",
    "Ystd[0:2] = Ystd[0:2].mean() # Translational Velocity\n",
    "Ystd[2:3] = Ystd[2:3].mean() # Rotational Velocity\n",
    "Ystd[3:4] = Ystd[3:4].mean() # Change in Phase\n",
    "Ystd[4:8] = Ystd[4:8].mean() # Contacts\n",
    "\n",
    "Ystd[8+w*0:8+w*1] = Ystd[8+w*0:8+w*1].mean() # Trajectory Future Positions\n",
    "Ystd[8+w*1:8+w*2] = Ystd[8+w*1:8+w*2].mean() # Trajectory Future Directions\n",
    "\n",
    "Ystd[8+w*2+j*3*0:8+w*2+j*3*1] = Ystd[8+w*2+j*3*0:8+w*2+j*3*1].mean() # Pos\n",
    "Ystd[8+w*2+j*3*1:8+w*2+j*3*2] = Ystd[8+w*2+j*3*1:8+w*2+j*3*2].mean() # Vel\n",
    "Ystd[8+w*2+j*3*2:8+w*2+j*3*3] = Ystd[8+w*2+j*3*2:8+w*2+j*3*3].mean() # Rot\n",
    "\n",
    "# save mean / std / min / max\n",
    "\n",
    "Xmean.astype(np.float32).tofile('./weights/Xmean.bin')\n",
    "Ymean.astype(np.float32).tofile('./weights/Ymean.bin')\n",
    "Xstd.astype(np.float32).tofile('./weights/Xstd.bin')\n",
    "Ystd.astype(np.float32).tofile('./weights/Ystd.bin')\n",
    "\n",
    "# normalize data\n",
    "X = (X - Xmean) / Xstd\n",
    "Y = (Y - Ymean) / Ystd"
   ]
  },
  {
   "cell_type": "code",
   "execution_count": 48,
   "metadata": {},
   "outputs": [],
   "source": [
    "from PFNNHiddenLayer import PFNNHiddenLayer\n",
    "from PFNNBiasLayer import PFNNBiasLayer\n",
    "\n",
    "class PhaseFunctionedNetwork(nn.Module):\n",
    "    def __init__(self, input_shape=1, output_shape=1, dropout=0.7):\n",
    "        super(PhaseFunctionedNetwork, self).__init__()\n",
    "\n",
    "        self.nslices = 4\n",
    "        self.dropout0 = nn.Dropout(p=dropout)\n",
    "        self.dropout1 = nn.Dropout(p=dropout)\n",
    "        self.dropout2 = nn.Dropout(p=dropout)\n",
    "        self.activation = nn.ELU()\n",
    "\n",
    "        self.W0 = PFNNHiddenLayer((self.nslices, 512, input_shape-1))\n",
    "        self.W1 = PFNNHiddenLayer((self.nslices, 512, 512))\n",
    "        self.W2 = PFNNHiddenLayer((self.nslices, output_shape, 512))\n",
    "\n",
    "        self.b0 = PFNNBiasLayer((self.nslices, 512))\n",
    "        self.b1 = PFNNBiasLayer((self.nslices, 512))\n",
    "        self.b2 = PFNNBiasLayer((self.nslices, output_shape))\n",
    "\n",
    "        self.layers = nn.ModuleList([self.W0, self.W1, self.W2, self.b0, self.b1, self.b2])\n",
    "\n",
    "    def forward(self, input):\n",
    "        pscale = self.nslices * input[:, -1]\n",
    "        pamount = pscale % 1.0\n",
    "\n",
    "        pindex_1 = torch.floor(pscale).long() % self.nslices\n",
    "        pindex_0 = (pindex_1 - 1) % self.nslices\n",
    "        pindex_2 = (pindex_1 + 1) % self.nslices\n",
    "        pindex_3 = (pindex_1 + 2) % self.nslices\n",
    "\n",
    "        Wamount = pamount.unsqueeze(1).unsqueeze(1)\n",
    "        bamount = pamount.unsqueeze(1)\n",
    "\n",
    "        def cubic(y0, y1, y2, y3, mu):\n",
    "            return (\n",
    "                (-0.5 * y0 + 1.5 * y1 - 1.5 * y2 + 0.5 * y3) * mu ** 3 +\n",
    "                (y0 - 2.5 * y1 + 2.0 * y2 - 0.5 * y3) * mu ** 2 +\n",
    "                (-0.5 * y0 + 0.5 * y2) * mu +\n",
    "                y1\n",
    "            )\n",
    "\n",
    "        self.W0.W= nn.Parameter(cubic(self.W0.W[pindex_0], self.W0.W[pindex_1], self.W0.W[pindex_2], self.W0.W[pindex_3], Wamount))\n",
    "        self.W1.W = nn.Parameter(cubic(self.W1.W[pindex_0], self.W1.W[pindex_1], self.W1.W[pindex_2], self.W1.W[pindex_3], Wamount))\n",
    "        self.W2.W = nn.Parameter(cubic(self.W2.W[pindex_0], self.W2.W[pindex_1], self.W2.W[pindex_2], self.W2.W[pindex_3], Wamount))\n",
    "\n",
    "        self.b0.b = nn.Parameter(cubic(self.b0.b[pindex_0], self.b0.b[pindex_1], self.b0.b[pindex_2], self.b0.b[pindex_3], bamount))\n",
    "        self.b1.b = nn.Parameter(cubic(self.b1.b[pindex_0], self.b1.b[pindex_1], self.b1.b[pindex_2], self.b1.b[pindex_3], bamount))\n",
    "        self.b2.b = nn.Parameter(cubic(self.b2.b[pindex_0], self.b2.b[pindex_1], self.b2.b[pindex_2], self.b2.b[pindex_3], bamount))\n",
    "\n",
    "        # input layer\n",
    "        H0 = input[:, :-1]\n",
    "\n",
    "        # print(f\"Shape of H0: {H0.unsqueeze(1).shape}\")\n",
    "        # print(f\"Shape of W0: {self.W0.W.shape}\")\n",
    "        # first hidden layer\n",
    "        # H1 = self.activation(torch.bmm(H0.unsqueeze(1), W0).squeeze(1) + b0)\n",
    "        H1 = self.b0(self.W0(H0.unsqueeze(1)).squeeze(1))\n",
    "        H1 = self.activation(H1)\n",
    "        # second hidden layer\n",
    "        # H2 = self.activation(torch.bmm(H1.unsqueeze(1), W1).squeeze(1) + b1)\n",
    "        H2 = self.b1(self.W1(H1.unsqueeze(1)).squeeze(1))\n",
    "        H2 = self.activation(H2)\n",
    "        # output layer\n",
    "        H3 = self.b2(self.W2(H2.unsqueeze(1)).squeeze(1))\n",
    "        # H3 = torch.bmm(H2.unsqueeze(1), W2).squeeze(1) + b2\n",
    "\n",
    "        return H3\n",
    "    \n",
    "    def cost(self):\n",
    "        costs = 0\n",
    "        for layer in self.layers:\n",
    "            if hasattr(layer, 'cost'):\n",
    "                costs += layer.cost()\n",
    "        return costs / len(self.layers)"
   ]
  },
  {
   "cell_type": "code",
   "execution_count": 56,
   "metadata": {},
   "outputs": [],
   "source": [
    "# custom loss function\n",
    "def loss_func(output, target, model):\n",
    "    loss = torch.mean((output - target) **2) + model.cost()\n",
    "    return loss\n"
   ]
  },
  {
   "cell_type": "code",
   "execution_count": 49,
   "metadata": {},
   "outputs": [],
   "source": [
    "model = PhaseFunctionedNetwork(input_shape=342, output_shape=311)\n",
    "\n",
    "input = torch.tensor(X[:32])\n",
    "output = model(input)\n",
    "\n",
    "# default AdamW params match what was used in original code\n",
    "optimizer = torch.optim.AdamW(model.parameters())\n"
   ]
  },
  {
   "cell_type": "code",
   "execution_count": 53,
   "metadata": {},
   "outputs": [],
   "source": [
    "loss = loss_func(output, torch.tensor(Y[:32]), model)\n",
    "print()\n",
    "loss.backward()"
   ]
  },
  {
   "cell_type": "code",
   "execution_count": 18,
   "metadata": {},
   "outputs": [],
   "source": []
  }
 ],
 "metadata": {
  "kernelspec": {
   "display_name": "pytorch-env",
   "language": "python",
   "name": "python3"
  },
  "language_info": {
   "codemirror_mode": {
    "name": "ipython",
    "version": 3
   },
   "file_extension": ".py",
   "mimetype": "text/x-python",
   "name": "python",
   "nbconvert_exporter": "python",
   "pygments_lexer": "ipython3",
   "version": "3.8.19"
  }
 },
 "nbformat": 4,
 "nbformat_minor": 2
}
