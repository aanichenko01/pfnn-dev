{
 "cells": [
  {
   "cell_type": "code",
   "execution_count": 1,
   "metadata": {},
   "outputs": [],
   "source": [
    "%load_ext autoreload\n",
    "%autoreload 2\n",
    "\n",
    "import torch\n",
    "import torch.nn as nn\n",
    "import torch.nn.functional as F\n",
    "import numpy as np\n",
    "from torch.utils.data import TensorDataset, DataLoader\n",
    "from tqdm import tqdm\n",
    "\n",
    "from PhaseFunctionedNetwork import PhaseFunctionedNetwork\n",
    "\n",
    "# set seeds for reproduceability\n",
    "torch.manual_seed(42)\n",
    "np.random.seed(42)\n",
    "rng = np.random.RandomState(42)"
   ]
  },
  {
   "cell_type": "code",
   "execution_count": 2,
   "metadata": {},
   "outputs": [
    {
     "name": "stdout",
     "output_type": "stream",
     "text": [
      "Idle data shape: (72, 1836), (72, 1767), (72,)\n",
      "Idle data shape: (100, 1836), (100, 1767), (100,)\n",
      "Idle data shape: (96, 1836), (96, 1767), (96,)\n"
     ]
    }
   ],
   "source": [
    "# Process Data Mirrored\n",
    "\n",
    "# Idle Data\n",
    "X_idle = np.float32(np.loadtxt('C:/Users/Ana/Desktop/dev/pfnn-dev/Export/Input_Idle_Static.txt'))\n",
    "Y_idle = np.float32(np.loadtxt('C:/Users/Ana/Desktop/dev/pfnn-dev/Export/Output_Idle_Static.txt'))\n",
    "P_idle = np.linspace(0, 2*np.pi, num=72)\n",
    "print(f\"Idle data shape: {X_idle.shape}, {Y_idle.shape}, {P_idle.shape}\")\n",
    "\n",
    "# Jump Flat\n",
    "X_jump_horizflat = np.float32(np.loadtxt('C:/Users/Ana/Desktop/dev/pfnn-dev/Export/Input_Jump_HorizFlat.txt'))\n",
    "Y_jump_horizflat = np.float32(np.loadtxt('C:/Users/Ana/Desktop/dev/pfnn-dev/Export/Output_Jump_HorizFlat.txt'))\n",
    "jump_horizflat_1 = np.linspace(0, 2*np.pi, num=50)\n",
    "jump_horizflat_2 = np.linspace(0, 2*np.pi, num=50)\n",
    "P_jump_horizflat = np.concatenate((jump_horizflat_1, jump_horizflat_2))\n",
    "print(f\"Idle data shape: {X_jump_horizflat.shape}, {Y_jump_horizflat.shape}, {P_jump_horizflat.shape}\")\n",
    "\n",
    "# Jump Up\n",
    "X_jump_horizup = np.float32(np.loadtxt('C:/Users/Ana/Desktop/dev/pfnn-dev/Export/Input_Jump_HorizUp.txt'))\n",
    "Y_jump_horizup = np.float32(np.loadtxt('C:/Users/Ana/Desktop/dev/pfnn-dev/Export/Output_Jump_HorizUp.txt'))\n",
    "jump_horizup_1 = np.linspace(0, 2*np.pi, num=48)\n",
    "jump_horizup_2 = np.linspace(0, 2*np.pi, num=48)\n",
    "P_jump_horizup = np.concatenate((jump_horizup_1, jump_horizup_2))\n",
    "print(f\"Idle data shape: {X_jump_horizup.shape}, {Y_jump_horizup.shape}, {P_jump_horizup.shape}\")\n"
   ]
  },
  {
   "cell_type": "code",
   "execution_count": 3,
   "metadata": {},
   "outputs": [
    {
     "name": "stdout",
     "output_type": "stream",
     "text": [
      "X: (268, 1836)\n",
      "Y: (268, 1767)\n",
      "P: (268,)\n"
     ]
    }
   ],
   "source": [
    "# Concatenate Data into indivudal X, Y, P Arrays\n",
    "X = np.concatenate((X_idle, X_jump_horizflat, X_jump_horizup))\n",
    "print(f\"X: {X.shape}\")\n",
    "\n",
    "Y = np.concatenate((Y_idle, Y_jump_horizflat, Y_jump_horizup))\n",
    "print(f\"Y: {Y.shape}\")\n",
    "\n",
    "P = np.concatenate((P_idle, P_jump_horizflat, P_jump_horizup))\n",
    "print(f\"P: {P.shape}\")"
   ]
  },
  {
   "cell_type": "code",
   "execution_count": 4,
   "metadata": {},
   "outputs": [],
   "source": [
    "# Phase logic\n",
    "delta_phase = P[1:] - P[:-1]\n",
    "delta_phase[delta_phase < 0] = (1.0 - P[:-1] + P[1:])[delta_phase < 0]\n",
    "delta_phase = np.append(delta_phase, 2 * np.pi)\n",
    "\n",
    "Y = np.concatenate([Y, delta_phase [..., np.newaxis]], axis=-1)"
   ]
  },
  {
   "cell_type": "code",
   "execution_count": 105,
   "metadata": {},
   "outputs": [],
   "source": [
    "# WEIGH THE JOINT (in particular all the hand and foot joints need to be weighted less)\n",
    "JOINT_NUM = 144\n",
    "\n",
    "joint_weights = np.array([\n",
    "    1,                                                  # HIPS\n",
    "    1, 1, 1,                                            # LEFT leg\n",
    "    1e-10, 1e-10, 1e-10, 1,                             # LEFT foot thumb\n",
    "    1,                                                  # LEFT foot toe base\n",
    "    1e-10, 1e-10, 1e-10, 1,                             # LEFT foot index\n",
    "    1e-10, 1e-10, 1e-10, 1e-10, 1,                      # LEFT foot middle\n",
    "    1e-10, 1e-10, 1e-10, 1e-10, 1,                      # LEFT foot ring\n",
    "    1, 1, 1,                                            # RIGHT leg\n",
    "    1e-10, 1e-10, 1e-10, 1,                             # RIGHT foot thumb\n",
    "    1,                                                  # RIGHT foot toe base\n",
    "    1e-10, 1e-10, 1e-10, 1,                             # RIGHT foot index\n",
    "    1e-10, 1e-10, 1e-10, 1e-10, 1,                      # RIGHT foot middle\n",
    "    1e-10, 1e-10, 1e-10, 1e-10, 1,                      # RIGHT foot ring\n",
    "    1, 1, 1, 1,                                         # SPINE\n",
    "    1, 1,                                               # LEFT shoulder\n",
    "    1, 1,                                               # LEFT arm\n",
    "    1,                                                  # LEFT hand\n",
    "    1e-10, 1e-10, 1e-10, 1e-10, 1,                      # LEFT hand index\n",
    "    1e-10, 1e-10, 1e-10, 1e-10, 1,                      # LEFT hand middle\n",
    "    1e-10, 1e-10, 1e-10, 1e-10, 1,                      # LEFT hand ring\n",
    "    1, 1e-10, 1,                                        # LEFT wing feathers large\n",
    "    1, 1e-10, 1,                                        # LEFT wing feathers medium\n",
    "    1,                                                  # LEFT wing feathers small\n",
    "    1, 1, 1, 1, 1, 1, 1,                                # NECK\n",
    "    1,                                                  # HEAD\n",
    "    1e-10, 1e-10,                                       # JAW\n",
    "    1e-10, 1e-10, 1e-10, 1e-10, 1e-10, 1e-10, 1e-10,    # TONUGE\n",
    "    1e-10, 1e-10, 1e-10,                                # LEFT eye\n",
    "    1e-10, 1e-10, 1e-10,                                # RIGHT eye\n",
    "    1, 1,                                               # RIGHT shoulder\n",
    "    1, 1,                                               # RIGHT arm\n",
    "    1,                                                  # RIGHT hand\n",
    "    1e-10, 1e-10, 1e-10, 1e-10, 1,                      # RIGHT hand index\n",
    "    1e-10, 1e-10, 1e-10, 1e-10, 1,                      # RIGHT hand middle\n",
    "    1e-10, 1e-10, 1e-10, 1e-10, 1,                      # RIGHT hand ring\n",
    "    1, 1e-10, 1,                                        # RIGHT wing feathers large\n",
    "    1, 1e-10, 1,                                        # RIGHT wing feathers medium\n",
    "    1,                                                  # RIGHT wing feathers small\n",
    "    1, 1, 1, 1, 1, 1, 1, 1, 1,                          # TAIL\n",
    "    1e-10, 1e-10, 1,                                    # LEFT tail feather\n",
    "    1e-10, 1e-10, 1,                                    # MIDDLE tail feather         \n",
    "    1e-10, 1e-10, 1                                     # RIGHT tail feather \n",
    "])\n",
    "\n",
    "# repeat weights for each joint to represent X, Y and Z\n",
    "joint_weights = joint_weights.repeat(3)"
   ]
  },
  {
   "cell_type": "code",
   "execution_count": 118,
   "metadata": {},
   "outputs": [],
   "source": [
    "# # Calculate mean and std\n",
    "# Xmean, Xstd = X.mean(axis=0), X.std(axis=0)\n",
    "# Ymean, Ystd = Y.mean(axis=0), Y.std(axis=0)"
   ]
  },
  {
   "cell_type": "code",
   "execution_count": 107,
   "metadata": {},
   "outputs": [],
   "source": [
    "# # PREPROCESS INPUT X\n",
    "# # lists to keep track of indices for TRAJECTORY\n",
    "# X_traj_pos_indices = []\n",
    "# X_traj_dir_indices = []\n",
    "# X_traj_vel_indices = []\n",
    "# X_traj_speed_indices = []\n",
    "# X_traj_style_indices = []\n",
    "\n",
    "# # number of trajectory elements\n",
    "# w = 9\n",
    "# for i in range(0, 107, w):\n",
    "#     X_traj_pos_indices = np.append(X_traj_pos_indices, range(i,i+2)).astype(int)\n",
    "#     X_traj_dir_indices = np.append(X_traj_dir_indices, range(i+2,i+4)).astype(int)\n",
    "#     X_traj_vel_indices = np.append(X_traj_vel_indices, range(i+4,i+6)).astype(int)\n",
    "#     X_traj_speed_indices = np.append(X_traj_speed_indices, i+6).astype(int)\n",
    "#     X_traj_style_indices = np.append(X_traj_style_indices, range(i+7,i+9)).astype(int)\n",
    "\n",
    "# # lists to keep track of indices for JOINTS\n",
    "# X_joint_pos_indices = []\n",
    "# X_joint_for_indices = []\n",
    "# X_joint_up_indices = []\n",
    "# X_joint_vel_indices = []\n",
    "\n",
    "# # num of joint elements\n",
    "# w = 12\n",
    "# for i in range(108, 1835, w):\n",
    "#     X_joint_pos_indices = np.append(X_joint_pos_indices, range(i,i+3)).astype(int)\n",
    "#     X_joint_for_indices = np.append(X_joint_for_indices, range(i+3,i+6)).astype(int)\n",
    "#     X_joint_up_indices = np.append(X_joint_up_indices, range(i+6,i+9)).astype(int)\n",
    "#     X_joint_vel_indices = np.append(X_joint_vel_indices, range(i+9,i+12)).astype(int)\n",
    "\n",
    "# # INPUT Trajectory data\n",
    "# Xstd[X_traj_pos_indices] = Xstd[X_traj_pos_indices].mean()\n",
    "# Xstd[X_traj_dir_indices] = Xstd[X_traj_dir_indices].mean()\n",
    "# Xstd[X_traj_vel_indices] = Xstd[X_traj_vel_indices].mean()\n",
    "# Xstd[X_traj_speed_indices] = Xstd[X_traj_speed_indices].mean()\n",
    "# Xstd[X_traj_style_indices] = Xstd[X_traj_style_indices].mean()\n",
    "\n",
    "# # INPUT Joint data --> This is where we weight the joints\n",
    "# Xstd[X_joint_pos_indices] = Xstd[X_joint_pos_indices].mean() / (joint_weights * 0.1)\n",
    "# Xstd[X_joint_for_indices] = Xstd[X_joint_for_indices].mean() / (joint_weights * 0.1)\n",
    "# Xstd[X_joint_up_indices] = Xstd[X_joint_up_indices].mean() / (joint_weights * 0.1)\n",
    "# Xstd[X_joint_vel_indices] = Xstd[X_joint_vel_indices].mean() / (joint_weights * 0.1)"
   ]
  },
  {
   "cell_type": "code",
   "execution_count": 108,
   "metadata": {},
   "outputs": [],
   "source": [
    "# # PREPROCESS OUTPUT Y\n",
    "# # lists to keep track of indices for TRAJECTORY\n",
    "# Y_traj_pos_indices = []\n",
    "# Y_traj_dir_indices = []\n",
    "# Y_traj_vel_indices = []\n",
    "\n",
    "# # number of trajectory elements\n",
    "# w = 6\n",
    "# for i in range(0, 35, w):\n",
    "#     Y_traj_pos_indices = np.append(Y_traj_pos_indices, range(i,i+2)).astype(int)\n",
    "#     Y_traj_dir_indices = np.append(Y_traj_dir_indices, range(i+2,i+4)).astype(int)\n",
    "#     Y_traj_vel_indices = np.append(Y_traj_vel_indices, range(i+4,i+6)).astype(int)\n",
    "\n",
    "# # lists to keep track of indices for JOINTS\n",
    "# Y_joint_pos_indices = []\n",
    "# Y_joint_for_indices = []\n",
    "# Y_joint_up_indices = []\n",
    "# Y_joint_vel_indices = []\n",
    "\n",
    "# # num of joint elements\n",
    "# w = 12\n",
    "# for i in range(36, 1763, w):\n",
    "#     Y_joint_pos_indices = np.append(Y_joint_pos_indices, range(i,i+3)).astype(int)\n",
    "#     Y_joint_for_indices = np.append(Y_joint_for_indices, range(i+3,i+6)).astype(int)\n",
    "#     Y_joint_up_indices = np.append(Y_joint_up_indices, range(i+6,i+9)).astype(int)\n",
    "#     Y_joint_vel_indices = np.append(Y_joint_vel_indices, range(i+9,i+12)).astype(int)\n",
    "\n",
    "# # OUTPUT Trajectory data\n",
    "# Ystd[Y_traj_pos_indices] = Ystd[Y_traj_pos_indices].mean()\n",
    "# Ystd[Y_traj_dir_indices] = Ystd[Y_traj_dir_indices].mean()\n",
    "# Ystd[Y_traj_vel_indices] = Ystd[Y_traj_vel_indices].mean()\n",
    "\n",
    "# # OUTPUT Joint data --> This is where we weight the joints\n",
    "# Ystd[Y_joint_pos_indices] = Ystd[Y_joint_pos_indices].mean() / (joint_weights * 0.1)\n",
    "# Ystd[Y_joint_for_indices] = Ystd[Y_joint_for_indices].mean() / (joint_weights * 0.1)\n",
    "# Ystd[Y_joint_up_indices] = Ystd[Y_joint_up_indices].mean() / (joint_weights * 0.1)\n",
    "# Ystd[Y_joint_vel_indices] = Ystd[Y_joint_vel_indices].mean() / (joint_weights * 0.1)\n",
    "\n",
    "# #TODO MAYBE ROOT TRASLATION arr[-3:] --> last three elements"
   ]
  },
  {
   "cell_type": "code",
   "execution_count": 5,
   "metadata": {},
   "outputs": [],
   "source": [
    "# Calculate mean and std\n",
    "Xmean, Xstd = X.mean(axis=0), X.std(axis=0)\n",
    "Ymean, Ystd = Y.mean(axis=0), Y.std(axis=0)\n",
    "\n",
    "for i in range(Xstd.size):\n",
    "    if (Xstd[i]==0):\n",
    "        Xstd[i]=1\n",
    "for i in range(Ystd.size):\n",
    "    if (Ystd[i]==0):\n",
    "        Ystd[i]=1\n",
    "\n",
    "# save mean / std / min / max\n",
    "Xmean.astype(np.float32).tofile('C:/Users/Ana/Desktop/dev/pfnn-dev/unity-pfnn/Assets/Dev/Weights/test/Xmean.bin')\n",
    "Ymean.astype(np.float32).tofile('C:/Users/Ana/Desktop/dev/pfnn-dev/unity-pfnn/Assets/Dev/Weights/test/Ymean.bin')\n",
    "Xstd.astype(np.float32).tofile('C:/Users/Ana/Desktop/dev/pfnn-dev/unity-pfnn/Assets/Dev/Weights/test/Xstd.bin')\n",
    "Ystd.astype(np.float32).tofile('C:/Users/Ana/Desktop/dev/pfnn-dev/unity-pfnn/Assets/Dev/Weights/test/Ystd.bin')\n",
    "\n",
    "# normalize data NOTE ORIGINAL DID THIS AFTER SAVING THE MEANS AND STD AS DONE HERE\n",
    "X = (X - Xmean) / Xstd\n",
    "Y = (Y - Ymean) / Ystd"
   ]
  },
  {
   "cell_type": "code",
   "execution_count": 6,
   "metadata": {},
   "outputs": [
    {
     "name": "stdout",
     "output_type": "stream",
     "text": [
      "Input shape torch.Size([268, 1837])\n",
      "Target shape torch.Size([268, 1768])\n"
     ]
    }
   ],
   "source": [
    "# append phase as additional feature\n",
    "input = torch.tensor(np.concatenate([X, P [..., np.newaxis]], axis=-1))\n",
    "target = torch.tensor(Y)\n",
    "\n",
    "print(f\"Input shape {input.shape}\")\n",
    "print(f\"Target shape {target.shape}\")\n",
    "\n",
    "dataset = TensorDataset(input, target)\n",
    "\n",
    "BATCH_SIZE = 32\n",
    "train_dataloader = DataLoader(dataset, batch_size=BATCH_SIZE, shuffle=True)"
   ]
  },
  {
   "cell_type": "code",
   "execution_count": 7,
   "metadata": {},
   "outputs": [],
   "source": [
    "# ensure GPU is available\n",
    "# device = torch.device(\"cuda\" if torch.cuda.is_available() else \"cpu\")\n",
    "# print(f\"Using device: {device}\")\n",
    "device = \"cuda\"\n",
    "\n",
    "# custom loss function\n",
    "def loss_func(output, target, model):\n",
    "    loss = torch.mean((output - target)**2) + model.cost()\n",
    "    return loss"
   ]
  },
  {
   "cell_type": "code",
   "execution_count": 8,
   "metadata": {},
   "outputs": [
    {
     "name": "stderr",
     "output_type": "stream",
     "text": [
      "100%|██████████| 9/9 [00:01<00:00,  5.85it/s]\n"
     ]
    },
    {
     "name": "stdout",
     "output_type": "stream",
     "text": [
      "Epoch [1/3], Loss: 0.9808530154905812\n"
     ]
    },
    {
     "name": "stderr",
     "output_type": "stream",
     "text": [
      "100%|██████████| 9/9 [00:01<00:00,  6.69it/s]\n"
     ]
    },
    {
     "name": "stdout",
     "output_type": "stream",
     "text": [
      "Epoch [2/3], Loss: 0.9885938492753331\n"
     ]
    },
    {
     "name": "stderr",
     "output_type": "stream",
     "text": [
      "100%|██████████| 9/9 [00:01<00:00,  6.70it/s]"
     ]
    },
    {
     "name": "stdout",
     "output_type": "stream",
     "text": [
      "Epoch [3/3], Loss: 0.9370610110583488\n"
     ]
    },
    {
     "name": "stderr",
     "output_type": "stream",
     "text": [
      "\n"
     ]
    }
   ],
   "source": [
    "model = PhaseFunctionedNetwork(input_shape=input.shape[1], output_shape=target.shape[1])\n",
    "model.to(device)\n",
    "\n",
    "optimizer = torch.optim.AdamW(model.parameters(), lr=0.0001)\n",
    "\n",
    "epochs=3\n",
    "\n",
    "for epoch in range(epochs):\n",
    "    model.train()\n",
    "    loss_list = []\n",
    "    for i, batch in enumerate(tqdm(train_dataloader)):\n",
    "        input, target = batch\n",
    "        input, target = input.to(device), target.to(device)\n",
    "\n",
    "        # forward pass\n",
    "        output = model(input)\n",
    "        loss = loss_func(output, target, model)\n",
    "        loss_list.append(loss.item())\n",
    "\n",
    "        # backward pass\n",
    "        optimizer.zero_grad()\n",
    "        loss.backward()\n",
    "        optimizer.step()\n",
    "    \n",
    "    print(f'Epoch [{epoch+1}/{epochs}], Loss: {np.average(loss_list)}')\n"
   ]
  },
  {
   "cell_type": "code",
   "execution_count": 9,
   "metadata": {},
   "outputs": [],
   "source": [
    "# save weights\n",
    "model.precompute_and_save_weights()"
   ]
  }
 ],
 "metadata": {
  "kernelspec": {
   "display_name": "pytorch-env",
   "language": "python",
   "name": "python3"
  },
  "language_info": {
   "codemirror_mode": {
    "name": "ipython",
    "version": 3
   },
   "file_extension": ".py",
   "mimetype": "text/x-python",
   "name": "python",
   "nbconvert_exporter": "python",
   "pygments_lexer": "ipython3",
   "version": "3.8.19"
  }
 },
 "nbformat": 4,
 "nbformat_minor": 2
}
