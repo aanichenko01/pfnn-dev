{
 "cells": [
  {
   "cell_type": "code",
   "execution_count": 1,
   "metadata": {},
   "outputs": [],
   "source": [
    "%load_ext autoreload\n",
    "%autoreload 2\n",
    "\n",
    "import torch\n",
    "import torch.nn as nn\n",
    "import torch.nn.functional as F\n",
    "import numpy as np\n",
    "from torch.utils.data import TensorDataset, DataLoader\n",
    "\n",
    "from PhaseFunctionedNetwork import PhaseFunctionedNetwork\n",
    "from train_utils import train_pfnn\n",
    "\n",
    "# set seeds for reproduceability\n",
    "torch.manual_seed(42)\n",
    "np.random.seed(42)\n",
    "rng = np.random.RandomState(42)"
   ]
  },
  {
   "cell_type": "code",
   "execution_count": 6,
   "metadata": {},
   "outputs": [
    {
     "name": "stdout",
     "output_type": "stream",
     "text": [
      "Idle data shape: (72, 960), (72, 891), (72,), (72,)\n",
      "Horizflat data shape: (50, 960), (50, 891), (50,), (50,)\n",
      "Horizup data shape: (48, 960), (48, 891), (48,), (48,)\n"
     ]
    }
   ],
   "source": [
    "# Process Data \n",
    "\n",
    "# Idle Data\n",
    "X_idle = np.float32(np.loadtxt('C:/Users/Ana/Desktop/dev/pfnn-dev/Export/Input_Idle_Static.txt'))[:, :-1]\n",
    "Y_idle = np.float32(np.loadtxt('C:/Users/Ana/Desktop/dev/pfnn-dev/Export/Output_Idle_Static.txt'))\n",
    "P_idle = np.round(np.append(np.linspace(0, 0.99, num=36), np.linspace(0, 0.99, num=36)), 2)\n",
    "delta_idle =  P_idle[1:] - P_idle[:-1]\n",
    "delta_idle[delta_idle < 0] = (1.0 - P_idle[:-1] + P_idle[1:])[delta_idle < 0]\n",
    "delta_idle = np.append(delta_idle,  0) #TODO IF BREAKS append 2pi\n",
    "print(f\"Idle data shape: {X_idle.shape}, {Y_idle.shape}, {P_idle.shape}, {delta_idle.shape}\")\n",
    "\n",
    "# Jump Flat\n",
    "X_jump_horizflat = np.float32(np.loadtxt('C:/Users/Ana/Desktop/dev/pfnn-dev/Export/Input_Jump_HorizFlat.txt'))[:, :-1]\n",
    "Y_jump_horizflat = np.float32(np.loadtxt('C:/Users/Ana/Desktop/dev/pfnn-dev/Export/Output_Jump_HorizFlat.txt'))\n",
    "P_jump_horizflat = np.round(np.linspace(0, 0.99, num=50), 2)\n",
    "delta_jump_horizflat =  P_jump_horizflat[1:] - P_jump_horizflat[:-1]\n",
    "delta_jump_horizflat[delta_jump_horizflat < 0] = (1.0 - P_jump_horizflat[:-1] + P_jump_horizflat[1:])[delta_jump_horizflat < 0]\n",
    "delta_jump_horizflat = np.append(delta_jump_horizflat,  0) #TODO IF BREAKS append 2pi\n",
    "print(f\"Horizflat data shape: {X_jump_horizflat.shape}, {Y_jump_horizflat.shape}, {P_jump_horizflat.shape}, {delta_jump_horizflat.shape}\")\n",
    "\n",
    "# Jump Up\n",
    "X_jump_horizup = np.float32(np.loadtxt('C:/Users/Ana/Desktop/dev/pfnn-dev/Export/Input_Jump_HorizUp.txt'))[:, :-1]\n",
    "Y_jump_horizup = np.float32(np.loadtxt('C:/Users/Ana/Desktop/dev/pfnn-dev/Export/Output_Jump_HorizUp.txt'))\n",
    "P_jump_horizup = np.round(np.linspace(0, 0.99, num=48), 2)\n",
    "delta_jump_horizup =  P_jump_horizup[1:] - P_jump_horizup[:-1]\n",
    "delta_jump_horizup[delta_jump_horizup < 0] = (1.0 - P_jump_horizup[:-1] + P_jump_horizup[1:])[delta_jump_horizup < 0]\n",
    "delta_jump_horizup = np.append(delta_jump_horizup, 0) #TODO IF BREAKS append 2pi\n",
    "print(f\"Horizup data shape: {X_jump_horizup.shape}, {Y_jump_horizup.shape}, {P_jump_horizup.shape}, {delta_jump_horizup.shape}\")"
   ]
  },
  {
   "cell_type": "code",
   "execution_count": 99,
   "metadata": {},
   "outputs": [
    {
     "data": {
      "text/plain": [
       "array([0.  , 0.02, 0.04, 0.06, 0.08, 0.11, 0.13, 0.15, 0.17, 0.19, 0.21,\n",
       "       0.23, 0.25, 0.27, 0.29, 0.32, 0.34, 0.36, 0.38, 0.4 , 0.42, 0.44,\n",
       "       0.46, 0.48, 0.51, 0.53, 0.55, 0.57, 0.59, 0.61, 0.63, 0.65, 0.67,\n",
       "       0.7 , 0.72, 0.74, 0.76, 0.78, 0.8 , 0.82, 0.84, 0.86, 0.88, 0.91,\n",
       "       0.93, 0.95, 0.97, 0.99])"
      ]
     },
     "execution_count": 99,
     "metadata": {},
     "output_type": "execute_result"
    }
   ],
   "source": [
    "P_jump_horizup"
   ]
  },
  {
   "cell_type": "code",
   "execution_count": 7,
   "metadata": {},
   "outputs": [],
   "source": [
    "# WEIGH THE JOINT (in particular all the hand and foot joints need to be weighted less)\n",
    "JOINT_NUM = 144\n",
    "\n",
    "joint_weights = np.array([\n",
    "    1,                                                  # HIPS\n",
    "    1, 1, 1,                                            # LEFT leg\n",
    "    1e-10, 1e-10, 1e-10, 1,                             # LEFT foot thumb\n",
    "    1,                                                  # LEFT foot toe base\n",
    "    1e-10, 1e-10, 1e-10, 1,                             # LEFT foot index\n",
    "    1e-10, 1e-10, 1e-10, 1e-10, 1,                      # LEFT foot middle\n",
    "    1e-10, 1e-10, 1e-10, 1e-10, 1,                      # LEFT foot ring\n",
    "    1, 1, 1,                                            # RIGHT leg\n",
    "    1e-10, 1e-10, 1e-10, 1,                             # RIGHT foot thumb\n",
    "    1,                                                  # RIGHT foot toe base\n",
    "    1e-10, 1e-10, 1e-10, 1,                             # RIGHT foot index\n",
    "    1e-10, 1e-10, 1e-10, 1e-10, 1,                      # RIGHT foot middle\n",
    "    1e-10, 1e-10, 1e-10, 1e-10, 1,                      # RIGHT foot ring\n",
    "    1, 1, 1, 1,                                         # SPINE\n",
    "    1, 1,                                               # LEFT shoulder\n",
    "    1, 1,                                               # LEFT arm\n",
    "    1,                                                  # LEFT hand\n",
    "    1e-10, 1e-10, 1e-10, 1e-10, 1,                      # LEFT hand index\n",
    "    1e-10, 1e-10, 1e-10, 1e-10, 1,                      # LEFT hand middle\n",
    "    1e-10, 1e-10, 1e-10, 1e-10, 1,                      # LEFT hand ring\n",
    "    1, 1e-10, 1,                                        # LEFT wing feathers large\n",
    "    1, 1e-10, 1,                                        # LEFT wing feathers medium\n",
    "    1,                                                  # LEFT wing feathers small\n",
    "    1, 1, 1, 1, 1, 1, 1,                                # NECK\n",
    "    1,                                                  # HEAD\n",
    "    1e-10, 1e-10,                                       # JAW\n",
    "    1e-10, 1e-10, 1e-10, 1e-10, 1e-10, 1e-10, 1e-10,    # TONUGE\n",
    "    1e-10, 1e-10, 1e-10,                                # LEFT eye\n",
    "    1e-10, 1e-10, 1e-10,                                # RIGHT eye\n",
    "    1, 1,                                               # RIGHT shoulder\n",
    "    1, 1,                                               # RIGHT arm\n",
    "    1,                                                  # RIGHT hand\n",
    "    1e-10, 1e-10, 1e-10, 1e-10, 1,                      # RIGHT hand index\n",
    "    1e-10, 1e-10, 1e-10, 1e-10, 1,                      # RIGHT hand middle\n",
    "    1e-10, 1e-10, 1e-10, 1e-10, 1,                      # RIGHT hand ring\n",
    "    1, 1e-10, 1,                                        # RIGHT wing feathers large\n",
    "    1, 1e-10, 1,                                        # RIGHT wing feathers medium\n",
    "    1,                                                  # RIGHT wing feathers small\n",
    "    1, 1, 1, 1, 1, 1, 1, 1, 1,                          # TAIL\n",
    "    1e-10, 1e-10, 1,                                    # LEFT tail feather\n",
    "    1e-10, 1e-10, 1,                                    # MIDDLE tail feather         \n",
    "    1e-10, 1e-10, 1                                     # RIGHT tail feather \n",
    "])\n",
    "\n",
    "# repeat weights for each joint to represent X, Y and Z\n",
    "joint_weights = joint_weights.repeat(3)"
   ]
  },
  {
   "cell_type": "code",
   "execution_count": 8,
   "metadata": {},
   "outputs": [],
   "source": [
    "def preprocess_X(X_arr):\n",
    "    Xmean, Xstd = X_arr.mean(axis=0), X_arr.std(axis=0)\n",
    "\n",
    "    # lists to keep track of indices for TRAJECTORY\n",
    "    X_traj_pos_indices = []\n",
    "    X_traj_dir_indices = []\n",
    "    X_traj_style_indices = []\n",
    "    X_traj_slope_indices = []\n",
    "\n",
    "    # number of eleements for each trajectory point\n",
    "    w = 8\n",
    "    for i in range(0, 95, w):\n",
    "        X_traj_pos_indices = np.append(X_traj_pos_indices, range(i,i+3)).astype(int)\n",
    "        X_traj_dir_indices = np.append(X_traj_dir_indices, range(i+3,i+5)).astype(int)\n",
    "        X_traj_slope_indices = np.append(X_traj_slope_indices, i+5).astype(int)\n",
    "        X_traj_style_indices = np.append(X_traj_style_indices, range(i+6,i+8)).astype(int)\n",
    "\n",
    "    # lists to keep track of indices for JOINTS\n",
    "    X_joint_pos_indices = []\n",
    "    X_joint_vel_indices = []\n",
    "\n",
    "    # num of elements for each joint\n",
    "    w = 6\n",
    "    for i in range(96, 959, w):\n",
    "        X_joint_pos_indices = np.append(X_joint_pos_indices, range(i,i+3)).astype(int)\n",
    "        X_joint_vel_indices = np.append(X_joint_vel_indices, range(i+3,i+6)).astype(int)\n",
    "\n",
    "    # INPUT Trajectory data\n",
    "    Xstd[X_traj_pos_indices] = Xstd[X_traj_pos_indices].mean()\n",
    "    Xstd[X_traj_dir_indices] = Xstd[X_traj_dir_indices].mean()\n",
    "    Xstd[X_traj_style_indices] = Xstd[X_traj_style_indices].mean()\n",
    "    Xstd[X_traj_slope_indices] = Xstd[X_traj_slope_indices].mean()\n",
    "\n",
    "    # INPUT Joint data --> This is where we weight the joints\n",
    "    # Xstd[X_joint_pos_indices] = Xstd[X_joint_pos_indices].mean() / (joint_weights * 0.1)\n",
    "    # Xstd[X_joint_vel_indices] = Xstd[X_joint_vel_indices].mean() / (joint_weights * 0.1)\n",
    "    Xstd[X_joint_pos_indices] = Xstd[X_joint_pos_indices].mean() \n",
    "    Xstd[X_joint_vel_indices] = Xstd[X_joint_vel_indices].mean()\n",
    "\n",
    "    return Xmean, Xstd\n",
    "\n",
    "def preprocess_Y(Y_arr):\n",
    "    Ymean, Ystd = Y_arr.mean(axis=0), Y_arr.std(axis=0)\n",
    "\n",
    "    # PREPROCESS OUTPUT Y\n",
    "    # lists to keep track of indices for TRAJECTORY\n",
    "    Y_traj_pos_indices = []\n",
    "    Y_traj_dir_indices = []\n",
    "\n",
    "    # number of trajectory elements\n",
    "    w = 4\n",
    "    for i in range(0, 23, w): #TODO UPDATE THE RANGE\n",
    "        Y_traj_pos_indices = np.append(Y_traj_pos_indices, range(i,i+2)).astype(int)\n",
    "        Y_traj_dir_indices = np.append(Y_traj_dir_indices, range(i+2,i+4)).astype(int)\n",
    "\n",
    "    # lists to keep track of indices for JOINTS\n",
    "    Y_joint_pos_indices = []\n",
    "    Y_joint_vel_indices = []\n",
    "\n",
    "    # num of joint elements\n",
    "    w = 6\n",
    "    for i in range(24, 887, w): #TODO UPDATE THE RANGE\n",
    "        Y_joint_pos_indices = np.append(Y_joint_pos_indices, range(i,i+3)).astype(int)\n",
    "        Y_joint_vel_indices = np.append(Y_joint_vel_indices, range(i+3,i+6)).astype(int)\n",
    "\n",
    "    # OUTPUT Trajectory data\n",
    "    Ystd[Y_traj_pos_indices] = Ystd[Y_traj_pos_indices].mean()\n",
    "    Ystd[Y_traj_dir_indices] = Ystd[Y_traj_dir_indices].mean()\n",
    "\n",
    "    # OUTPUT Joint data --> This is where we weight the joints\n",
    "    # Ystd[Y_joint_pos_indices] = Ystd[Y_joint_pos_indices].mean() / (joint_weights * 0.1)\n",
    "    # Ystd[Y_joint_vel_indices] = Ystd[Y_joint_vel_indices].mean() / (joint_weights * 0.1)\n",
    "    Ystd[Y_joint_pos_indices] = Ystd[Y_joint_pos_indices].mean()\n",
    "    Ystd[Y_joint_vel_indices] = Ystd[Y_joint_vel_indices].mean()\n",
    "    \n",
    "    # translational_vel_mean = (Ystd[-4] + Ystd[-2])/2\n",
    "    # Ystd[-4] = translational_vel_mean\n",
    "    # Ystd[-2] = translational_vel_mean\n",
    "\n",
    "    return Ymean, Ystd"
   ]
  },
  {
   "cell_type": "code",
   "execution_count": 9,
   "metadata": {},
   "outputs": [
    {
     "name": "stdout",
     "output_type": "stream",
     "text": [
      "Input shape torch.Size([170, 961])\n",
      "Target shape torch.Size([170, 892])\n"
     ]
    }
   ],
   "source": [
    "# Concatenate Data into indivudal X, Y, P Arrays\n",
    "X = np.concatenate((X_idle, X_jump_horizflat, X_jump_horizup))\n",
    "Y = np.concatenate((Y_idle, Y_jump_horizflat, Y_jump_horizup))\n",
    "P = np.concatenate((P_idle, P_jump_horizflat, P_jump_horizup))\n",
    "delta_phase = np.concatenate((delta_idle, delta_jump_horizflat, delta_jump_horizup))\n",
    "Y = np.concatenate([Y, delta_phase [..., np.newaxis]], axis=-1)\n",
    "\n",
    "# Preprocess Data\n",
    "Xmean, Xstd = preprocess_X(X)\n",
    "Ymean, Ystd = preprocess_Y(Y)\n",
    "\n",
    "WEIGHTS_SAVE_PATH = 'C:/Users/Ana/Desktop/dev/pfnn-dev/unity-pfnn/Assets/Dev/Weights/test/'\n",
    "\n",
    "for i in range(Xstd.size):\n",
    "    if (Xstd[i]==0):\n",
    "        Xstd[i]=1\n",
    "for i in range(Ystd.size):\n",
    "    if (Ystd[i]==0):\n",
    "        Ystd[i]=1\n",
    "\n",
    "# save means and stds\n",
    "Xmean.astype(np.float32).tofile(WEIGHTS_SAVE_PATH + 'Xmean.bin')\n",
    "Ymean.astype(np.float32).tofile(WEIGHTS_SAVE_PATH + 'Ymean.bin')\n",
    "Xstd.astype(np.float32).tofile(WEIGHTS_SAVE_PATH + 'Xstd.bin')\n",
    "Ystd.astype(np.float32).tofile(WEIGHTS_SAVE_PATH + 'Ystd.bin')\n",
    "\n",
    "# normalize data NOTE ORIGINAL DID THIS AFTER SAVING THE MEANS AND STD AS DONE HERE\n",
    "X = (X - Xmean) / Xstd\n",
    "Y = (Y - Ymean) / Ystd\n",
    "\n",
    "# load data for PyTorch training\n",
    "\n",
    "# append phase as additional feature only for training NN\n",
    "input = torch.tensor(np.concatenate([X, P [..., np.newaxis]], axis=-1))\n",
    "target = torch.tensor(Y)\n",
    "\n",
    "print(f\"Input shape {input.shape}\")\n",
    "print(f\"Target shape {target.shape}\")\n",
    "\n",
    "dataset = TensorDataset(input, target)"
   ]
  },
  {
   "cell_type": "code",
   "execution_count": 11,
   "metadata": {},
   "outputs": [
    {
     "name": "stderr",
     "output_type": "stream",
     "text": [
      "100%|██████████| 6/6 [00:00<00:00, 10.34it/s]\n"
     ]
    },
    {
     "name": "stdout",
     "output_type": "stream",
     "text": [
      "Epoch [1/5], Loss: 1.397376499399206\n"
     ]
    },
    {
     "name": "stderr",
     "output_type": "stream",
     "text": [
      "100%|██████████| 6/6 [00:00<00:00, 12.03it/s]\n"
     ]
    },
    {
     "name": "stdout",
     "output_type": "stream",
     "text": [
      "Epoch [2/5], Loss: 1.4720335584803805\n"
     ]
    },
    {
     "name": "stderr",
     "output_type": "stream",
     "text": [
      "100%|██████████| 6/6 [00:00<00:00, 12.03it/s]\n"
     ]
    },
    {
     "name": "stdout",
     "output_type": "stream",
     "text": [
      "Epoch [3/5], Loss: 1.168077419393778\n"
     ]
    },
    {
     "name": "stderr",
     "output_type": "stream",
     "text": [
      "100%|██████████| 6/6 [00:00<00:00, 11.97it/s]\n"
     ]
    },
    {
     "name": "stdout",
     "output_type": "stream",
     "text": [
      "Epoch [4/5], Loss: 0.8660439582471331\n"
     ]
    },
    {
     "name": "stderr",
     "output_type": "stream",
     "text": [
      "100%|██████████| 6/6 [00:00<00:00, 12.07it/s]\n"
     ]
    },
    {
     "name": "stdout",
     "output_type": "stream",
     "text": [
      "Epoch [5/5], Loss: 0.8047193303339983\n"
     ]
    }
   ],
   "source": [
    "# Define PFNN\n",
    "model = PhaseFunctionedNetwork(input_shape=input.shape[1], output_shape=target.shape[1], dropout=0.9)\n",
    "\n",
    "# Determine device for training \n",
    "DEVICE = torch.device(\"cuda\" if torch.cuda.is_available() else \"cpu\")\n",
    "model.to(DEVICE)\n",
    "\n",
    "# Training variables\n",
    "BATCH_SIZE = 32\n",
    "EPOCHS = 5\n",
    "LR = 0.001\n",
    "OPTIMIZER = torch.optim.AdamW(model.parameters(), lr=LR)\n",
    "train_dataloader = DataLoader(dataset, batch_size=BATCH_SIZE, shuffle=True)\n",
    "\n",
    "# Train\n",
    "model = train_pfnn(model, train_dataloader, optimizer=OPTIMIZER, num_epochs=EPOCHS, device=DEVICE)\n",
    "\n",
    "# Save\n",
    "model.precompute_and_save_weights()"
   ]
  }
 ],
 "metadata": {
  "kernelspec": {
   "display_name": "pytorch-env",
   "language": "python",
   "name": "python3"
  },
  "language_info": {
   "codemirror_mode": {
    "name": "ipython",
    "version": 3
   },
   "file_extension": ".py",
   "mimetype": "text/x-python",
   "name": "python",
   "nbconvert_exporter": "python",
   "pygments_lexer": "ipython3",
   "version": "3.8.19"
  }
 },
 "nbformat": 4,
 "nbformat_minor": 2
}
