{
 "cells": [
  {
   "cell_type": "code",
   "execution_count": 1,
   "metadata": {},
   "outputs": [],
   "source": [
    "%load_ext autoreload\n",
    "%autoreload 2\n",
    "\n",
    "import torch\n",
    "import torch.nn as nn\n",
    "import torch.nn.functional as F\n",
    "import numpy as np\n",
    "import skeletonDefMixamo as skd\n",
    "from torch.utils.data import TensorDataset, DataLoader\n",
    "from tqdm import tqdm\n",
    "\n",
    "from PhaseFunctionedNetwork import PhaseFunctionedNetwork\n",
    "\n",
    "# set seeds for reproduceability\n",
    "torch.manual_seed(42)\n",
    "np.random.seed(42)\n",
    "rng = np.random.RandomState(42)"
   ]
  },
  {
   "cell_type": "code",
   "execution_count": 2,
   "metadata": {},
   "outputs": [
    {
     "name": "stdout",
     "output_type": "stream",
     "text": [
      "(124610, 342) (124610, 311) (124610,)\n"
     ]
    }
   ],
   "source": [
    "# load data\n",
    "# X = np.float32(np.loadtxt('./data/Input.txt'))\n",
    "# Y = np.float32(np.loadtxt('./data/Output.txt'))\n",
    "# P = np.float32(np.loadtxt('./data/Phases.txt'))\n",
    "# print(X.shape, Y.shape, P.shape)"
   ]
  },
  {
   "cell_type": "code",
   "execution_count": 4,
   "metadata": {},
   "outputs": [
    {
     "name": "stdout",
     "output_type": "stream",
     "text": [
      "(281, 864) (281, 819)\n"
     ]
    }
   ],
   "source": [
    "# C:\\Users\\Ana\\Desktop\\dev\\pfnn-dev\\Export\n",
    "X = np.float32(np.loadtxt('C:/Users/Ana/Desktop/dev/pfnn-dev/Export/Input.txt'))\n",
    "Y = np.float32(np.loadtxt('C:/Users/Ana/Desktop/dev/pfnn-dev/Export/Output.txt'))\n",
    "print(X.shape, Y.shape)"
   ]
  },
  {
   "cell_type": "code",
   "execution_count": 5,
   "metadata": {},
   "outputs": [
    {
     "name": "stderr",
     "output_type": "stream",
     "text": [
      "C:\\Users\\Ana\\AppData\\Local\\Temp\\ipykernel_16776\\809458722.py:42: RuntimeWarning: invalid value encountered in divide\n",
      "  Y = (Y - Ymean) / Ystd\n"
     ]
    }
   ],
   "source": [
    "# calculate mean and std\n",
    "Xmean, Xstd = X.mean(axis=0), X.std(axis=0)\n",
    "Ymean, Ystd = Y.mean(axis=0), Y.std(axis=0)\n",
    "\n",
    "j = skd.JOINT_NUM\n",
    "w = ((60*2)//10)\n",
    "\n",
    "Xstd[w*0:w* 1] = Xstd[w*0:w* 1].mean() # Trajectory Past Positions\n",
    "Xstd[w*1:w* 2] = Xstd[w*1:w* 2].mean() # Trajectory Future Positions\n",
    "Xstd[w*2:w* 3] = Xstd[w*2:w* 3].mean() # Trajectory Past Directions\n",
    "Xstd[w*3:w* 4] = Xstd[w*3:w* 4].mean() # Trajectory Future Directions\n",
    "Xstd[w*4:w*10] = Xstd[w*4:w*10].mean() # Trajectory Gait\n",
    "\n",
    "# mask out unused joints in input\n",
    "joint_weights = np.array(skd.JOINT_WEIGHTS).repeat(3)\n",
    "\n",
    "Xstd[w*10+j*3*0:w*10+j*3*1] = Xstd[w*10+j*3*0:w*10+j*3*1].mean() / (joint_weights * 0.1) # Pos\n",
    "Xstd[w*10+j*3*1:w*10+j*3*2] = Xstd[w*10+j*3*1:w*10+j*3*2].mean() / (joint_weights * 0.1) # Vel\n",
    "Xstd[w*10+j*3*2:          ] = Xstd[w*10+j*3*2:          ].mean() # Terrain\n",
    "\n",
    "Ystd[0:2] = Ystd[0:2].mean() # Translational Velocity\n",
    "Ystd[2:3] = Ystd[2:3].mean() # Rotational Velocity\n",
    "Ystd[3:4] = Ystd[3:4].mean() # Change in Phase\n",
    "Ystd[4:8] = Ystd[4:8].mean() # Contacts\n",
    "\n",
    "Ystd[8+w*0:8+w*1] = Ystd[8+w*0:8+w*1].mean() # Trajectory Future Positions\n",
    "Ystd[8+w*1:8+w*2] = Ystd[8+w*1:8+w*2].mean() # Trajectory Future Directions\n",
    "\n",
    "Ystd[8+w*2+j*3*0:8+w*2+j*3*1] = Ystd[8+w*2+j*3*0:8+w*2+j*3*1].mean() # Pos\n",
    "Ystd[8+w*2+j*3*1:8+w*2+j*3*2] = Ystd[8+w*2+j*3*1:8+w*2+j*3*2].mean() # Vel\n",
    "Ystd[8+w*2+j*3*2:8+w*2+j*3*3] = Ystd[8+w*2+j*3*2:8+w*2+j*3*3].mean() # Rot\n",
    "\n",
    "# save mean / std / min / max\n",
    "\n",
    "Xmean.astype(np.float32).tofile('./weights/Xmean.bin')\n",
    "Ymean.astype(np.float32).tofile('./weights/Ymean.bin')\n",
    "Xstd.astype(np.float32).tofile('./weights/Xstd.bin')\n",
    "Ystd.astype(np.float32).tofile('./weights/Ystd.bin')\n",
    "\n",
    "# normalize data\n",
    "X = (X - Xmean) / Xstd\n",
    "Y = (Y - Ymean) / Ystd"
   ]
  },
  {
   "cell_type": "code",
   "execution_count": 4,
   "metadata": {},
   "outputs": [],
   "source": [
    "# append phase as additional feature\n",
    "input = torch.tensor(np.concatenate([X, P [..., np.newaxis]], axis=-1))\n",
    "target = torch.tensor(Y)\n",
    "\n",
    "dataset = TensorDataset(input[:100000], target[:100000])\n",
    "\n",
    "BATCH_SIZE = 32\n",
    "train_dataloader = DataLoader(dataset, batch_size=BATCH_SIZE, shuffle=True)"
   ]
  },
  {
   "cell_type": "code",
   "execution_count": 5,
   "metadata": {},
   "outputs": [],
   "source": [
    "# ensure GPU is available\n",
    "# device = torch.device(\"cuda\" if torch.cuda.is_available() else \"cpu\")\n",
    "# print(f\"Using device: {device}\")\n",
    "device = \"cuda\"\n",
    "\n",
    "# custom loss function\n",
    "def loss_func(output, target, model):\n",
    "    loss = torch.mean((output - target)**2) + model.cost()\n",
    "    return loss"
   ]
  },
  {
   "cell_type": "code",
   "execution_count": 6,
   "metadata": {},
   "outputs": [
    {
     "name": "stderr",
     "output_type": "stream",
     "text": [
      "100%|██████████| 32/32 [00:01<00:00, 24.06it/s]"
     ]
    },
    {
     "name": "stdout",
     "output_type": "stream",
     "text": [
      "Epoch [1/1], Loss: 2.8743961080908775\n"
     ]
    },
    {
     "name": "stderr",
     "output_type": "stream",
     "text": [
      "\n"
     ]
    }
   ],
   "source": [
    "model = PhaseFunctionedNetwork(input_shape=input.shape[1], output_shape=311)\n",
    "model.to(device)\n",
    "\n",
    "optimizer = torch.optim.AdamW(model.parameters(), lr=0.0001)\n",
    "\n",
    "epochs=1\n",
    "\n",
    "for epoch in range(epochs):\n",
    "    model.train()\n",
    "    loss_list = []\n",
    "    for i, batch in enumerate(tqdm(train_dataloader)):\n",
    "        input, target = batch\n",
    "        input, target = input.to(device), target.to(device)\n",
    "\n",
    "        # forward pass\n",
    "        output = model(input)\n",
    "        loss = loss_func(output, target, model)\n",
    "        loss_list.append(loss.item())\n",
    "\n",
    "        # backward pass\n",
    "        optimizer.zero_grad()\n",
    "        loss.backward()\n",
    "        optimizer.step()\n",
    "    \n",
    "    print(f'Epoch [{epoch+1}/{epochs}], Loss: {np.average(loss_list)}')\n"
   ]
  },
  {
   "cell_type": "code",
   "execution_count": 7,
   "metadata": {},
   "outputs": [],
   "source": [
    "# save weights\n",
    "model.precompute_and_save_weights()"
   ]
  }
 ],
 "metadata": {
  "kernelspec": {
   "display_name": "pytorch-env",
   "language": "python",
   "name": "python3"
  },
  "language_info": {
   "codemirror_mode": {
    "name": "ipython",
    "version": 3
   },
   "file_extension": ".py",
   "mimetype": "text/x-python",
   "name": "python",
   "nbconvert_exporter": "python",
   "pygments_lexer": "ipython3",
   "version": "3.8.19"
  }
 },
 "nbformat": 4,
 "nbformat_minor": 2
}
