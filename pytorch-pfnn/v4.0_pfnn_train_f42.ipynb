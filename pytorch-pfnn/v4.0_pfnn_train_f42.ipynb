{
 "cells": [
  {
   "cell_type": "code",
   "execution_count": 1,
   "metadata": {},
   "outputs": [],
   "source": [
    "%load_ext autoreload\n",
    "%autoreload 2\n",
    "\n",
    "import torch\n",
    "import torch.nn as nn\n",
    "import torch.nn.functional as F\n",
    "import numpy as np\n",
    "from torch.utils.data import TensorDataset, DataLoader\n",
    "\n",
    "from PhaseFunctionedNetwork import PhaseFunctionedNetwork\n",
    "from train_utils import train_pfnn\n",
    "\n",
    "# set seeds for reproduceability\n",
    "torch.manual_seed(42)\n",
    "np.random.seed(42)\n",
    "rng = np.random.RandomState(42)"
   ]
  },
  {
   "cell_type": "code",
   "execution_count": 2,
   "metadata": {},
   "outputs": [
    {
     "name": "stdout",
     "output_type": "stream",
     "text": [
      "Idle data shape: (72, 1848), (72, 1767), (72,), (72,)\n",
      "Horizflat data shape: (50, 1848), (50, 1767), (50,), (50,)\n",
      "Horizup data shape: (48, 1848), (48, 1767), (48,), (48,)\n"
     ]
    }
   ],
   "source": [
    "# Process Data \n",
    "\n",
    "# Idle Data\n",
    "X_idle = np.float32(np.loadtxt('C:/Users/Ana/Desktop/dev/pfnn-dev/Export/Input_Idle_Static.txt'))\n",
    "Y_idle = np.float32(np.loadtxt('C:/Users/Ana/Desktop/dev/pfnn-dev/Export/Output_Idle_Static.txt'))\n",
    "P_idle = np.linspace(0, 2*np.pi, num=72)\n",
    "delta_idle =  P_idle[1:] - P_idle[:-1]\n",
    "delta_idle[delta_idle < 0] = (1.0 - P_idle[:-1] + P_idle[1:])[delta_idle < 0]\n",
    "delta_idle = np.append(delta_idle, 0) #TODO IF BREAKS append 2pi\n",
    "print(f\"Idle data shape: {X_idle.shape}, {Y_idle.shape}, {P_idle.shape}, {delta_idle.shape}\")\n",
    "\n",
    "# Jump Flat\n",
    "X_jump_horizflat = np.float32(np.loadtxt('C:/Users/Ana/Desktop/dev/pfnn-dev/Export/Input_Jump_HorizFlat.txt'))\n",
    "Y_jump_horizflat = np.float32(np.loadtxt('C:/Users/Ana/Desktop/dev/pfnn-dev/Export/Output_Jump_HorizFlat.txt'))\n",
    "P_jump_horizflat = np.linspace(0, 2*np.pi, num=50)\n",
    "delta_jump_horizflat =  P_jump_horizflat[1:] - P_jump_horizflat[:-1]\n",
    "delta_jump_horizflat[delta_jump_horizflat < 0] = (1.0 - P_jump_horizflat[:-1] + P_jump_horizflat[1:])[delta_jump_horizflat < 0]\n",
    "delta_jump_horizflat = np.append(delta_jump_horizflat, 0) #TODO IF BREAKS append 2pi\n",
    "print(f\"Horizflat data shape: {X_jump_horizflat.shape}, {Y_jump_horizflat.shape}, {P_jump_horizflat.shape}, {delta_jump_horizflat.shape}\")\n",
    "\n",
    "# Jump Up\n",
    "X_jump_horizup = np.float32(np.loadtxt('C:/Users/Ana/Desktop/dev/pfnn-dev/Export/Input_Jump_HorizUp.txt'))\n",
    "Y_jump_horizup = np.float32(np.loadtxt('C:/Users/Ana/Desktop/dev/pfnn-dev/Export/Output_Jump_HorizUp.txt'))\n",
    "P_jump_horizup = np.linspace(0, 2*np.pi, num=48)\n",
    "delta_jump_horizup =  P_jump_horizup[1:] - P_jump_horizup[:-1]\n",
    "delta_jump_horizup[delta_jump_horizup < 0] = (1.0 - P_jump_horizup[:-1] + P_jump_horizup[1:])[delta_jump_horizup < 0]\n",
    "delta_jump_horizup = np.append(delta_jump_horizup, 0) #TODO IF BREAKS append 2pi\n",
    "print(f\"Horizup data shape: {X_jump_horizup.shape}, {Y_jump_horizup.shape}, {P_jump_horizup.shape}, {delta_jump_horizup.shape}\")"
   ]
  },
  {
   "cell_type": "code",
   "execution_count": 7,
   "metadata": {},
   "outputs": [
    {
     "data": {
      "text/plain": [
       "(50, 1767)"
      ]
     },
     "execution_count": 7,
     "metadata": {},
     "output_type": "execute_result"
    }
   ],
   "source": [
    "Y_jump_horizflat.shape"
   ]
  },
  {
   "cell_type": "code",
   "execution_count": 22,
   "metadata": {},
   "outputs": [
    {
     "name": "stdout",
     "output_type": "stream",
     "text": [
      "X Root translation: [ 1.00e-05  2.00e-05  3.00e-05  4.00e-05  3.00e-05 -9.00e-05 -2.60e-04\n",
      " -4.30e-04 -5.80e-04 -7.50e-04 -7.50e-04 -6.20e-04 -3.40e-04 -3.00e-05\n",
      "  0.00e+00  7.00e-05  4.70e-04  1.31e-03  1.63e-03  1.41e-03  1.38e-03\n",
      "  1.43e-03  1.39e-03  1.22e-03  1.20e-03  1.36e-03  1.42e-03  1.34e-03\n",
      "  1.09e-03  7.40e-04  3.70e-04 -2.36e-03 -4.18e-03 -4.49e-03 -2.79e-03\n",
      " -9.00e-05 -1.20e-04  1.00e-05  1.50e-04  2.20e-04  2.60e-04  2.70e-04\n",
      "  2.50e-04  2.10e-04  1.70e-04  1.30e-04  7.00e-05  2.00e-05  0.00e+00\n",
      " -2.00e-05]\n",
      "Y Root rotation: [ 0.       0.       0.       0.       0.       0.       0.       0.\n",
      "  0.       0.       0.       0.       0.       0.       0.       0.\n",
      "  0.       0.       0.       0.       0.      -0.07133 -0.11014 -0.13706\n",
      " -0.14671 -0.15066 -0.15323 -0.16432 -0.15066 -0.11014 -0.04423  0.06256\n",
      "  0.11535  0.11014  0.11014  0.10835  0.10653  0.10087  0.09691  0.08847\n",
      "  0.08156  0.07133  0.06256  0.04846  0.03426  0.01978  0.       0.\n",
      "  0.       0.     ]\n",
      "Z Root translation: [ 1.090e-03  9.500e-04  1.030e-03  5.600e-04  1.770e-03  4.240e-03\n",
      "  9.570e-03  1.793e-02  2.491e-02  3.483e-02  3.479e-02  2.183e-02\n",
      "  2.062e-02  2.812e-02  3.182e-02  3.728e-02  3.479e-02  2.234e-02\n",
      "  1.766e-02  1.776e-02  1.692e-02  1.673e-02  1.654e-02  1.657e-02\n",
      "  1.658e-02  1.611e-02  1.723e-02  2.155e-02  2.057e-02  1.699e-02\n",
      "  8.540e-03 -1.000e-04 -3.700e-04 -6.400e-04 -9.500e-04 -1.300e-03\n",
      " -1.670e-03 -1.780e-03 -2.780e-03 -4.830e-03 -6.110e-03 -7.580e-03\n",
      " -7.190e-03 -5.310e-03 -2.530e-03 -4.000e-05 -2.000e-05 -7.000e-05]\n"
     ]
    }
   ],
   "source": [
    "# X root translation\n",
    "print(f\"X Root translation: {Y_jump_horizflat[:, -3]}\")\n",
    "print(f\"Y Root rotation: {Y_jump_horizflat[:, -2]}\")\n",
    "print(f\"Z Root translation: {Y_jump_horizflat[:, -1]}\")"
   ]
  },
  {
   "cell_type": "code",
   "execution_count": 23,
   "metadata": {},
   "outputs": [
    {
     "name": "stdout",
     "output_type": "stream",
     "text": [
      "X Root translation: [ 1.00e-05  2.00e-05  3.00e-05  4.00e-05  3.00e-05 -9.00e-05 -2.60e-04\n",
      " -4.30e-04 -5.80e-04 -7.50e-04 -7.50e-04 -6.20e-04 -3.40e-04 -3.00e-05\n",
      "  0.00e+00  7.00e-05  4.70e-04  1.31e-03  1.63e-03  1.46e-03  1.44e-03\n",
      "  1.38e-03  1.39e-03  1.55e-03  1.46e-03  1.22e-03  7.20e-04  2.80e-04\n",
      "  2.30e-04  1.40e-04 -2.50e-04 -8.70e-04 -1.24e-03 -1.68e-03 -1.83e-03\n",
      " -1.78e-03 -1.53e-03 -1.05e-03 -4.70e-04 -1.00e-05  6.00e-05  1.20e-04\n",
      "  1.70e-04  1.90e-04  1.80e-04  1.30e-04  7.00e-05  2.00e-05]\n",
      "Y Root rotation: [ 0.       0.       0.       0.       0.       0.       0.       0.\n",
      "  0.       0.       0.       0.       0.       0.       0.       0.\n",
      "  0.       0.       0.       0.      -0.01978 -0.05234 -0.09279 -0.14804\n",
      " -0.16313 -0.15195 -0.13562 -0.10279 -0.09065 -0.08393 -0.05935  0.\n",
      "  0.02798  0.02798  0.03426  0.04423  0.05595  0.07402  0.09279  0.11191\n",
      "  0.12195  0.12667  0.12195  0.10835  0.08623  0.05595  0.01978  0.     ]\n",
      "Z Root translation: [ 1.090e-03  9.500e-04  1.030e-03  5.600e-04  1.770e-03  4.240e-03\n",
      "  9.570e-03  1.793e-02  2.491e-02  3.483e-02  3.479e-02  2.183e-02\n",
      "  2.062e-02  2.812e-02  3.182e-02  3.728e-02  3.479e-02  2.234e-02\n",
      "  1.766e-02  1.776e-02  1.692e-02  1.673e-02  1.654e-02  1.657e-02\n",
      "  1.658e-02  1.611e-02  1.723e-02  2.155e-02  2.057e-02  1.699e-02\n",
      "  8.540e-03 -1.000e-04 -3.700e-04 -6.400e-04 -9.500e-04 -1.300e-03\n",
      " -1.670e-03 -1.780e-03 -2.780e-03 -4.830e-03 -6.110e-03 -7.580e-03\n",
      " -7.190e-03 -5.310e-03 -2.530e-03 -4.000e-05 -2.000e-05 -7.000e-05]\n"
     ]
    }
   ],
   "source": [
    "print(f\"X Root translation: {Y_jump_horizup[:, -3]}\")\n",
    "print(f\"Y Root rotation: {Y_jump_horizup[:, -2]}\")\n",
    "print(f\"Z Root translation: {Y_jump_horizup[:, -1]}\")"
   ]
  },
  {
   "cell_type": "code",
   "execution_count": 6,
   "metadata": {},
   "outputs": [],
   "source": [
    "# WEIGH THE JOINT (in particular all the hand and foot joints need to be weighted less)\n",
    "JOINT_NUM = 144\n",
    "\n",
    "joint_weights = np.array([\n",
    "    1,                                                  # HIPS\n",
    "    1, 1, 1,                                            # LEFT leg\n",
    "    1e-10, 1e-10, 1e-10, 1,                             # LEFT foot thumb\n",
    "    1,                                                  # LEFT foot toe base\n",
    "    1e-10, 1e-10, 1e-10, 1,                             # LEFT foot index\n",
    "    1e-10, 1e-10, 1e-10, 1e-10, 1,                      # LEFT foot middle\n",
    "    1e-10, 1e-10, 1e-10, 1e-10, 1,                      # LEFT foot ring\n",
    "    1, 1, 1,                                            # RIGHT leg\n",
    "    1e-10, 1e-10, 1e-10, 1,                             # RIGHT foot thumb\n",
    "    1,                                                  # RIGHT foot toe base\n",
    "    1e-10, 1e-10, 1e-10, 1,                             # RIGHT foot index\n",
    "    1e-10, 1e-10, 1e-10, 1e-10, 1,                      # RIGHT foot middle\n",
    "    1e-10, 1e-10, 1e-10, 1e-10, 1,                      # RIGHT foot ring\n",
    "    1, 1, 1, 1,                                         # SPINE\n",
    "    1, 1,                                               # LEFT shoulder\n",
    "    1, 1,                                               # LEFT arm\n",
    "    1,                                                  # LEFT hand\n",
    "    1e-10, 1e-10, 1e-10, 1e-10, 1,                      # LEFT hand index\n",
    "    1e-10, 1e-10, 1e-10, 1e-10, 1,                      # LEFT hand middle\n",
    "    1e-10, 1e-10, 1e-10, 1e-10, 1,                      # LEFT hand ring\n",
    "    1, 1e-10, 1,                                        # LEFT wing feathers large\n",
    "    1, 1e-10, 1,                                        # LEFT wing feathers medium\n",
    "    1,                                                  # LEFT wing feathers small\n",
    "    1, 1, 1, 1, 1, 1, 1,                                # NECK\n",
    "    1,                                                  # HEAD\n",
    "    1e-10, 1e-10,                                       # JAW\n",
    "    1e-10, 1e-10, 1e-10, 1e-10, 1e-10, 1e-10, 1e-10,    # TONUGE\n",
    "    1e-10, 1e-10, 1e-10,                                # LEFT eye\n",
    "    1e-10, 1e-10, 1e-10,                                # RIGHT eye\n",
    "    1, 1,                                               # RIGHT shoulder\n",
    "    1, 1,                                               # RIGHT arm\n",
    "    1,                                                  # RIGHT hand\n",
    "    1e-10, 1e-10, 1e-10, 1e-10, 1,                      # RIGHT hand index\n",
    "    1e-10, 1e-10, 1e-10, 1e-10, 1,                      # RIGHT hand middle\n",
    "    1e-10, 1e-10, 1e-10, 1e-10, 1,                      # RIGHT hand ring\n",
    "    1, 1e-10, 1,                                        # RIGHT wing feathers large\n",
    "    1, 1e-10, 1,                                        # RIGHT wing feathers medium\n",
    "    1,                                                  # RIGHT wing feathers small\n",
    "    1, 1, 1, 1, 1, 1, 1, 1, 1,                          # TAIL\n",
    "    1e-10, 1e-10, 1,                                    # LEFT tail feather\n",
    "    1e-10, 1e-10, 1,                                    # MIDDLE tail feather         \n",
    "    1e-10, 1e-10, 1                                     # RIGHT tail feather \n",
    "])\n",
    "\n",
    "# repeat weights for each joint to represent X, Y and Z\n",
    "joint_weights = joint_weights.repeat(3)"
   ]
  },
  {
   "cell_type": "code",
   "execution_count": 3,
   "metadata": {},
   "outputs": [],
   "source": [
    "def preprocess_X(X_arr):\n",
    "    Xmean, Xstd = X_arr.mean(axis=0), X_arr.std(axis=0)\n",
    "\n",
    "    # lists to keep track of indices for TRAJECTORY\n",
    "    X_traj_pos_indices = []\n",
    "    X_traj_dir_indices = []\n",
    "    X_traj_vel_indices = []\n",
    "    X_traj_speed_indices = []\n",
    "    X_traj_style_indices = []\n",
    "\n",
    "    # number of eleements for each trajectory point\n",
    "    w = 10\n",
    "    for i in range(0, 119, w):\n",
    "        X_traj_pos_indices = np.append(X_traj_pos_indices, range(i,i+3)).astype(int)\n",
    "        X_traj_dir_indices = np.append(X_traj_dir_indices, range(i+3,i+5)).astype(int)\n",
    "        X_traj_vel_indices = np.append(X_traj_vel_indices, range(i+5,i+7)).astype(int)\n",
    "        X_traj_speed_indices = np.append(X_traj_speed_indices, i+7).astype(int)\n",
    "        X_traj_style_indices = np.append(X_traj_style_indices, range(i+8,i+10)).astype(int)\n",
    "\n",
    "    # lists to keep track of indices for JOINTS\n",
    "    X_joint_pos_indices = []\n",
    "    X_joint_for_indices = []\n",
    "    X_joint_up_indices = []\n",
    "    X_joint_vel_indices = []\n",
    "\n",
    "    # num of elements for each joint\n",
    "    w = 12\n",
    "    for i in range(120, 1847, w):\n",
    "        X_joint_pos_indices = np.append(X_joint_pos_indices, range(i,i+3)).astype(int)\n",
    "        X_joint_for_indices = np.append(X_joint_for_indices, range(i+3,i+6)).astype(int)\n",
    "        X_joint_up_indices = np.append(X_joint_up_indices, range(i+6,i+9)).astype(int)\n",
    "        X_joint_vel_indices = np.append(X_joint_vel_indices, range(i+9,i+12)).astype(int)\n",
    "\n",
    "    # INPUT Trajectory data\n",
    "    Xstd[X_traj_pos_indices] = Xstd[X_traj_pos_indices].mean()\n",
    "    Xstd[X_traj_dir_indices] = Xstd[X_traj_dir_indices].mean()\n",
    "    Xstd[X_traj_vel_indices] = Xstd[X_traj_vel_indices].mean()\n",
    "    Xstd[X_traj_speed_indices] = Xstd[X_traj_speed_indices].mean()\n",
    "    Xstd[X_traj_style_indices] = Xstd[X_traj_style_indices].mean()\n",
    "\n",
    "    # INPUT Joint data --> This is where we weight the joints\n",
    "    # Xstd[X_joint_pos_indices] = Xstd[X_joint_pos_indices].mean() / (joint_weights * 0.1)\n",
    "    # Xstd[X_joint_for_indices] = Xstd[X_joint_for_indices].mean() / (joint_weights * 0.1)\n",
    "    # Xstd[X_joint_up_indices] = Xstd[X_joint_up_indices].mean() / (joint_weights * 0.1)\n",
    "    # Xstd[X_joint_vel_indices] = Xstd[X_joint_vel_indices].mean() / (joint_weights * 0.1)\n",
    "    Xstd[X_joint_pos_indices] = Xstd[X_joint_pos_indices].mean() \n",
    "    Xstd[X_joint_for_indices] = Xstd[X_joint_for_indices].mean()\n",
    "    Xstd[X_joint_up_indices] = Xstd[X_joint_up_indices].mean()\n",
    "    Xstd[X_joint_vel_indices] = Xstd[X_joint_vel_indices].mean()\n",
    "\n",
    "    return Xmean, Xstd\n",
    "\n",
    "def preprocess_Y(Y_arr):\n",
    "    Ymean, Ystd = Y_arr.mean(axis=0), Y_arr.std(axis=0)\n",
    "\n",
    "    # PREPROCESS OUTPUT Y\n",
    "    # lists to keep track of indices for TRAJECTORY\n",
    "    Y_traj_pos_indices = []\n",
    "    Y_traj_dir_indices = []\n",
    "    Y_traj_vel_indices = []\n",
    "\n",
    "    # number of trajectory elements\n",
    "    w = 6\n",
    "    for i in range(0, 35, w): #TODO UPDATE THE RANGE\n",
    "        Y_traj_pos_indices = np.append(Y_traj_pos_indices, range(i,i+2)).astype(int)\n",
    "        Y_traj_dir_indices = np.append(Y_traj_dir_indices, range(i+2,i+4)).astype(int)\n",
    "        Y_traj_vel_indices = np.append(Y_traj_vel_indices, range(i+4,i+6)).astype(int)\n",
    "\n",
    "    # lists to keep track of indices for JOINTS\n",
    "    Y_joint_pos_indices = []\n",
    "    Y_joint_for_indices = []\n",
    "    Y_joint_up_indices = []\n",
    "    Y_joint_vel_indices = []\n",
    "\n",
    "    # num of joint elements\n",
    "    w = 12\n",
    "    for i in range(36, 1763, w): #TODO UPDATE THE RANGE\n",
    "        Y_joint_pos_indices = np.append(Y_joint_pos_indices, range(i,i+3)).astype(int)\n",
    "        Y_joint_for_indices = np.append(Y_joint_for_indices, range(i+3,i+6)).astype(int)\n",
    "        Y_joint_up_indices = np.append(Y_joint_up_indices, range(i+6,i+9)).astype(int)\n",
    "        Y_joint_vel_indices = np.append(Y_joint_vel_indices, range(i+9,i+12)).astype(int)\n",
    "\n",
    "    # OUTPUT Trajectory data\n",
    "    Ystd[Y_traj_pos_indices] = Ystd[Y_traj_pos_indices].mean()\n",
    "    Ystd[Y_traj_dir_indices] = Ystd[Y_traj_dir_indices].mean()\n",
    "    Ystd[Y_traj_vel_indices] = Ystd[Y_traj_vel_indices].mean()\n",
    "\n",
    "    # OUTPUT Joint data --> This is where we weight the joints\n",
    "    # Ystd[Y_joint_pos_indices] = Ystd[Y_joint_pos_indices].mean() / (joint_weights * 0.1)\n",
    "    # Ystd[Y_joint_for_indices] = Ystd[Y_joint_for_indices].mean() / (joint_weights * 0.1)\n",
    "    # Ystd[Y_joint_up_indices] = Ystd[Y_joint_up_indices].mean() / (joint_weights * 0.1)\n",
    "    # Ystd[Y_joint_vel_indices] = Ystd[Y_joint_vel_indices].mean() / (joint_weights * 0.1)\n",
    "    Ystd[Y_joint_pos_indices] = Ystd[Y_joint_pos_indices].mean()\n",
    "    Ystd[Y_joint_for_indices] = Ystd[Y_joint_for_indices].mean()\n",
    "    Ystd[Y_joint_up_indices] = Ystd[Y_joint_up_indices].mean() \n",
    "    Ystd[Y_joint_vel_indices] = Ystd[Y_joint_vel_indices].mean()\n",
    "    \n",
    "    #TODO MAYBE ROOT TRASLATION arr[-3:] --> last three elements\n",
    "\n",
    "    return Ymean, Ystd"
   ]
  },
  {
   "cell_type": "code",
   "execution_count": 4,
   "metadata": {},
   "outputs": [
    {
     "name": "stdout",
     "output_type": "stream",
     "text": [
      "Input shape torch.Size([98, 1849])\n",
      "Target shape torch.Size([98, 1768])\n"
     ]
    }
   ],
   "source": [
    "# Concatenate Data into indivudal X, Y, P Arrays\n",
    "X = np.concatenate((X_jump_horizflat, X_jump_horizup))\n",
    "Y = np.concatenate((Y_jump_horizflat, Y_jump_horizup))\n",
    "P = np.concatenate((P_jump_horizflat, P_jump_horizup))\n",
    "delta_phase = np.concatenate((delta_jump_horizflat, delta_jump_horizup))\n",
    "Y = np.concatenate([Y, delta_phase [..., np.newaxis]], axis=-1)\n",
    "\n",
    "# Preprocess Data\n",
    "Xmean, Xstd = preprocess_X(X)\n",
    "Ymean, Ystd = preprocess_Y(Y)\n",
    "\n",
    "WEIGHTS_SAVE_PATH = 'C:/Users/Ana/Desktop/dev/pfnn-dev/unity-pfnn/Assets/Dev/Weights/test/'\n",
    "\n",
    "# save means and stds\n",
    "Xmean.astype(np.float32).tofile(WEIGHTS_SAVE_PATH + 'Xmean.bin')\n",
    "Ymean.astype(np.float32).tofile(WEIGHTS_SAVE_PATH + 'Ymean.bin')\n",
    "Xstd.astype(np.float32).tofile(WEIGHTS_SAVE_PATH + 'Xstd.bin')\n",
    "Ystd.astype(np.float32).tofile(WEIGHTS_SAVE_PATH + 'Ystd.bin')\n",
    "\n",
    "# normalize data NOTE ORIGINAL DID THIS AFTER SAVING THE MEANS AND STD AS DONE HERE\n",
    "X = (X - Xmean) / Xstd\n",
    "Y = (Y - Ymean) / Ystd\n",
    "\n",
    "# load data for PyTorch training\n",
    "\n",
    "# append phase as additional feature only for training NN\n",
    "input = torch.tensor(np.concatenate([X, P [..., np.newaxis]], axis=-1))\n",
    "target = torch.tensor(Y)\n",
    "\n",
    "print(f\"Input shape {input.shape}\")\n",
    "print(f\"Target shape {target.shape}\")\n",
    "\n",
    "dataset = TensorDataset(input, target)"
   ]
  },
  {
   "cell_type": "code",
   "execution_count": 6,
   "metadata": {},
   "outputs": [
    {
     "name": "stderr",
     "output_type": "stream",
     "text": [
      "100%|██████████| 4/4 [00:00<00:00,  6.30it/s]\n"
     ]
    },
    {
     "name": "stdout",
     "output_type": "stream",
     "text": [
      "Epoch [1/5], Loss: 1.5537628228930378\n"
     ]
    },
    {
     "name": "stderr",
     "output_type": "stream",
     "text": [
      "100%|██████████| 4/4 [00:00<00:00,  8.05it/s]\n"
     ]
    },
    {
     "name": "stdout",
     "output_type": "stream",
     "text": [
      "Epoch [2/5], Loss: 1.1913716582606715\n"
     ]
    },
    {
     "name": "stderr",
     "output_type": "stream",
     "text": [
      "100%|██████████| 4/4 [00:00<00:00,  8.03it/s]\n"
     ]
    },
    {
     "name": "stdout",
     "output_type": "stream",
     "text": [
      "Epoch [3/5], Loss: 1.145558921869398\n"
     ]
    },
    {
     "name": "stderr",
     "output_type": "stream",
     "text": [
      "100%|██████████| 4/4 [00:00<00:00,  8.01it/s]\n"
     ]
    },
    {
     "name": "stdout",
     "output_type": "stream",
     "text": [
      "Epoch [4/5], Loss: 1.075608583632128\n"
     ]
    },
    {
     "name": "stderr",
     "output_type": "stream",
     "text": [
      "100%|██████████| 4/4 [00:00<00:00,  8.00it/s]\n"
     ]
    },
    {
     "name": "stdout",
     "output_type": "stream",
     "text": [
      "Epoch [5/5], Loss: 0.9982292530218386\n"
     ]
    }
   ],
   "source": [
    "# Define PFNN\n",
    "model = PhaseFunctionedNetwork(input_shape=input.shape[1], output_shape=target.shape[1])\n",
    "\n",
    "# Determine device for training \n",
    "DEVICE = torch.device(\"cuda\" if torch.cuda.is_available() else \"cpu\")\n",
    "model.to(DEVICE)\n",
    "\n",
    "# Training variables\n",
    "BATCH_SIZE = 32\n",
    "EPOCHS = 5\n",
    "LR = 0.001\n",
    "OPTIMIZER = torch.optim.AdamW(model.parameters(), lr=LR)\n",
    "train_dataloader = DataLoader(dataset, batch_size=BATCH_SIZE, shuffle=True)\n",
    "\n",
    "# Train\n",
    "model = train_pfnn(model, train_dataloader, optimizer=OPTIMIZER, num_epochs=EPOCHS, device=DEVICE)\n",
    "\n",
    "# Save\n",
    "model.precompute_and_save_weights()"
   ]
  }
 ],
 "metadata": {
  "kernelspec": {
   "display_name": "pytorch-env",
   "language": "python",
   "name": "python3"
  },
  "language_info": {
   "codemirror_mode": {
    "name": "ipython",
    "version": 3
   },
   "file_extension": ".py",
   "mimetype": "text/x-python",
   "name": "python",
   "nbconvert_exporter": "python",
   "pygments_lexer": "ipython3",
   "version": "3.8.19"
  }
 },
 "nbformat": 4,
 "nbformat_minor": 2
}
