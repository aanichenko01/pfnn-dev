{
 "cells": [
  {
   "cell_type": "code",
   "execution_count": 2,
   "metadata": {},
   "outputs": [],
   "source": [
    "import subprocess\n",
    "import os\n",
    "\n",
    "# this notebook is for converting recordings from unity into pngs for the final report"
   ]
  },
  {
   "cell_type": "code",
   "execution_count": 3,
   "metadata": {},
   "outputs": [],
   "source": [
    "def mp4_to_pngs(mp4_file, output_folder, right_crop):\n",
    "    # create output folder if does not exist\n",
    "    if not os.path.exists(output_folder):\n",
    "        os.makedirs(output_folder)\n",
    "\n",
    "    # original dimensions\n",
    "    w = 3840\n",
    "    h = 2160\n",
    "\n",
    "    # new dims\n",
    "    left_crop = w - right_crop - 2611\n",
    "    if left_crop < 0:\n",
    "        raise ValueError(\"The specified right crop amount is too high.\")\n",
    "    \n",
    "    new_width = w - (left_crop + right_crop)\n",
    "    \n",
    "    # ffmpeg command\n",
    "    command = [\n",
    "        'ffmpeg',\n",
    "        '-i', mp4_file,\n",
    "        '-vf', f'crop={new_width}:{h}:{left_crop}:0',\n",
    "        os.path.join(output_folder, 'frame_%04d.png')\n",
    "    ]\n",
    "    \n",
    "    subprocess.run(command)"
   ]
  },
  {
   "cell_type": "code",
   "execution_count": 14,
   "metadata": {},
   "outputs": [],
   "source": [
    "ROOT_PATH = 'C:/Users/Ana/Desktop/ReportContent/3 PFNN Chapter/Recordings/'  # Path to your MP4 file\n",
    "\n",
    "input_file = 'v2_flat.mp4'\n",
    "output_folder = 'pngs/' + input_file.split('.mp4')[0] + '/'\n",
    "\n",
    "mp4_to_pngs(ROOT_PATH + input_file, ROOT_PATH + output_folder, right_crop=890)"
   ]
  }
 ],
 "metadata": {
  "kernelspec": {
   "display_name": "torch",
   "language": "python",
   "name": "python3"
  },
  "language_info": {
   "codemirror_mode": {
    "name": "ipython",
    "version": 3
   },
   "file_extension": ".py",
   "mimetype": "text/x-python",
   "name": "python",
   "nbconvert_exporter": "python",
   "pygments_lexer": "ipython3",
   "version": "3.8.19"
  }
 },
 "nbformat": 4,
 "nbformat_minor": 2
}
